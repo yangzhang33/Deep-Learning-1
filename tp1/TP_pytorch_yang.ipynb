{
  "cells": [
    {
      "cell_type": "markdown",
      "source": [
        "# Lab Deep Learning / Multi-Layer Perceptron for binary-classification / in pytorch\n",
        "\n",
        "**Author: geoffroy.peeters@telecom-paris.fr**\n",
        "\n",
        "**Version**: 2022/09/19\n",
        "\n",
        "For any remark or suggestion, please feel free to contact me."
      ],
      "metadata": {
        "id": "9KFU-_ZrsZFR"
      }
    },
    {
      "cell_type": "markdown",
      "source": [
        "## Objective:\n",
        "\n",
        "The objective of this lab is to develop a two hidden layers MLP to perform **binary classification**.\n",
        "\n",
        "We will use a MLP with 2 hidden layer with $n_{h1}=20$ and $n_{h2}=10$ hidden units and ```relu``` activation functions.\n",
        "You will perform 10.000 iterations (epochs) of SGD to find the parameters.\n",
        "\n",
        "Note: for this lab, we do not separate the dataset into a train, validation and test part."
      ],
      "metadata": {
        "id": "4-0LCM7sseew"
      }
    },
    {
      "cell_type": "markdown",
      "source": [
        "### Data normalization\n",
        "\n",
        "You should normalize the data to zero mean and unit standard deviation"
      ],
      "metadata": {
        "id": "rhcaeREyshiA"
      }
    },
    {
      "cell_type": "markdown",
      "source": [
        "### Model\n",
        "\n",
        "There are various ways to write NN model in pytorch. \n",
        "\n",
        "In this lab, you will write three different implementations:\n",
        "- **Model A**: manually defining the parameters (W1,b1,W2,b2,W3,b3), writing the forward equations, writting the loss equation, calling the .backward() and manually updating the weights using W1.grad. You will write the loop to perform 1000 epochs.\n",
        "- **Model B**: using the Sequential class of pytorch\n",
        "- **Model C**: a custom torch.nn.Module class for this.\n",
        "\n",
        "For Model B and C, you will use the ready made loss and optimization from the nn and optim packages. You can use the same code to optimize the parameters of Model B and C."
      ],
      "metadata": {
        "id": "W889TJY0sjrw"
      }
    },
    {
      "cell_type": "markdown",
      "source": [
        "### Loss\n",
        "\n",
        "Since we are dealing with a binary classification problem, we will use a Binary Cross Entropy loss (use ```torch.nn.BCELoss``` for Model B and C)."
      ],
      "metadata": {
        "id": "_Qc8jENGsmR5"
      }
    },
    {
      "cell_type": "markdown",
      "source": [
        "### Parameters update/ Optimization\n",
        "\n",
        "For updating the parameters, we will use as optimizer a simple SGD algorithm (use ```torch.optim.SGD``` for Model B and C) with a learning rate of 0.1.\n",
        "\n",
        "Don't forget that an optimizer is applied to a set of parameters (```my_model.parameters()``` gives the parameters of the network for Model B and C).\n",
        "Once the gradients have been computed (after the backpropagation has been performed), you can perform one step of optimization (using ```optimizer.step()``` for Model B and C)."
      ],
      "metadata": {
        "id": "PbkGTDaRso25"
      }
    },
    {
      "cell_type": "markdown",
      "source": [
        "### Backward propagation\n",
        "\n",
        "Backpropagation is automatically performed in pytorch using the ```autograd``` package. \n",
        "First, reset the gradients of all parameters (using ```optimizer.zero_grad()``` for Model B and C), then perform the backpropagation ```loss.backward()```. "
      ],
      "metadata": {
        "id": "6qzL47Ntss3p"
      }
    },
    {
      "cell_type": "markdown",
      "metadata": {
        "id": "k4fnzJJDo60Y"
      },
      "source": [
        "### Your task:\n",
        "\n",
        "You need to add the missing parts in the code (parts between ```# --- START CODE HERE``` and ```# --- END CODE HERE```)\n",
        "\n",
        "### Documentation:\n",
        "- NN: https://pytorch.org/docs/stable/nn.html\n",
        "- Autograd: https://pytorch.org/docs/stable/autograd.html\n",
        "- Optim: https://pytorch.org/docs/stable/optim.html\n"
      ]
    },
    {
      "cell_type": "markdown",
      "metadata": {
        "id": "tuvU8y2Lo60Z"
      },
      "source": [
        "## Load the python packages"
      ]
    },
    {
      "cell_type": "code",
      "execution_count": null,
      "metadata": {
        "id": "I1VTuwVio60a"
      },
      "outputs": [],
      "source": [
        "import torch\n",
        "import torch.nn as nn\n",
        "import torch.nn.functional as F\n",
        "import torch.optim as optim\n",
        "from torch.autograd import Variable\n",
        "\n",
        "import numpy as np\n",
        "import matplotlib.pyplot as plt\n",
        "\n",
        "student = True"
      ]
    },
    {
      "cell_type": "code",
      "execution_count": null,
      "metadata": {
        "id": "Zof__thjo60d",
        "colab": {
          "base_uri": "https://localhost:8080/"
        },
        "outputId": "87beab78-08b9-48f4-a3e1-b5799cc4b9c3"
      },
      "outputs": [
        {
          "output_type": "stream",
          "name": "stdout",
          "text": [
            "1.12.1+cu113\n"
          ]
        }
      ],
      "source": [
        "print(torch.__version__)"
      ]
    },
    {
      "cell_type": "markdown",
      "metadata": {
        "id": "Bsb-phrJo60g"
      },
      "source": [
        "## Dataset\n",
        "\n",
        "We take the usual circle dataset from sklearn."
      ]
    },
    {
      "cell_type": "code",
      "execution_count": null,
      "metadata": {
        "id": "Otam7ukPo60g"
      },
      "outputs": [],
      "source": [
        "from sklearn import datasets\n",
        "X_np, y_np = datasets.make_circles(n_samples=1000, noise=0.2, factor=0.5)"
      ]
    },
    {
      "cell_type": "markdown",
      "metadata": {
        "id": "-5idAV4Co60i"
      },
      "source": [
        "We convert the ```numpy tensors``` to ```torch tensors```. \n",
        "The difference being that the latters allows to do automatic gradient differentiation (back-propagation)."
      ]
    },
    {
      "cell_type": "code",
      "execution_count": null,
      "metadata": {
        "id": "rPxnzVSDo60j"
      },
      "outputs": [],
      "source": [
        "X = torch.from_numpy(X_np).float()\n",
        "y = torch.from_numpy(y_np).float()\n",
        "y = y.view(len(y), 1)"
      ]
    },
    {
      "cell_type": "code",
      "execution_count": null,
      "metadata": {
        "id": "YHgd8JYPo60l",
        "colab": {
          "base_uri": "https://localhost:8080/"
        },
        "outputId": "e39ebf1c-4049-45de-ae49-1d086ba8ff96"
      },
      "outputs": [
        {
          "output_type": "stream",
          "name": "stdout",
          "text": [
            "torch.Size([1000, 2])\n",
            "torch.Size([1000, 1])\n",
            "tensor([-0.0017, -0.0057])\n",
            "tensor([0.5966, 0.5909])\n"
          ]
        }
      ],
      "source": [
        "print(X.size())\n",
        "print(y.size())\n",
        "print(X.mean(dim=0))\n",
        "print(X.std(dim=0))"
      ]
    },
    {
      "cell_type": "markdown",
      "metadata": {
        "id": "Unp-3kjjo60n"
      },
      "source": [
        "## Normalization"
      ]
    },
    {
      "cell_type": "code",
      "execution_count": null,
      "metadata": {
        "id": "6rIwFaauo60n",
        "colab": {
          "base_uri": "https://localhost:8080/"
        },
        "outputId": "e96c655f-4e9d-422d-fe67-36e7a3536ee8"
      },
      "outputs": [
        {
          "output_type": "stream",
          "name": "stdout",
          "text": [
            "tensor([-8.5831e-09,  1.9073e-09])\n",
            "tensor([1., 1.])\n"
          ]
        }
      ],
      "source": [
        "X -= X.mean(dim=0)\n",
        "X /= X.std(dim=0)\n",
        "print(X.mean(dim=0))\n",
        "print(X.std(dim=0))"
      ]
    },
    {
      "cell_type": "markdown",
      "metadata": {
        "id": "Rc3VgVWOo60p"
      },
      "source": [
        "## Definition of the hyper-parameters"
      ]
    },
    {
      "cell_type": "code",
      "execution_count": null,
      "metadata": {
        "id": "OrBQMqCJo60r"
      },
      "outputs": [],
      "source": [
        "n_in = X.shape[1]\n",
        "n_h1 = 20\n",
        "n_h2 = 10\n",
        "n_out = 1\n",
        "\n",
        "nb_epoch = 10000\n",
        "alpha = 0.1"
      ]
    },
    {
      "cell_type": "markdown",
      "metadata": {
        "id": "CIzjntgZo60t"
      },
      "source": [
        "## Model 1 (writing the network equations)\n",
        "\n",
        "\n"
      ]
    },
    {
      "cell_type": "markdown",
      "source": [
        "### Parameter initialization\n",
        "\n",
        "**Using torch.Tensors**.\n",
        "You will define the variables and write the equations of the network yourself (as you would do in numpy).\n",
        "However you will use ```torch.Tensors``` instead of ```numpy.Array```. \n",
        "\n",
        "***Why ?*** because torch tensors will allows you to automatically get the gradient. You will use ```loss.backward()``` to launch the backpropagation from ```loss```. Then, for all tensors you've created and for which you declared ```requires_grad=True```, you will get the gradient of ```loss```with respect to this variable in the field ```.grad```. \n",
        "\n",
        "Example: ```W1 = torch.Tensor(..., requires_grad=True)``` ... ```loss.backward``` will have the gradient $\\frac{d Loss}{d W1}$in ```W1.grad```.\n",
        "\n",
        "**Rendom initialization**. Don't forget that the weight $W_1, W_2, \\cdots$ matrices **should be initialized randomly with small values**; while the bias vectors $b_1, b_2, \\cdots$can be initialized to zero."
      ],
      "metadata": {
        "id": "4pllj-HFth04"
      }
    },
    {
      "cell_type": "code",
      "source": [
        "# --- We first initialize the variables of the network (W1, b1, ...)\n",
        "if student:\n",
        "    # --- START CODE HERE (01)\n",
        "    W1 = torch.randn(n_in, n_h1)\n",
        "    W1.requires_grad = True\n",
        "    b1 = torch.zeros(1, n_h1, requires_grad=True)\n",
        "    \n",
        "    W2 = torch.randn(n_h1, n_h2)\n",
        "    W2.requires_grad = True\n",
        "    b2 = torch.zeros(1, n_h2, requires_grad=True)\n",
        "\n",
        "    W3 = torch.randn(n_h2, n_out)\n",
        "    W3.requires_grad = True\n",
        "    b3 = torch.zeros(1, n_out, requires_grad=True)\n",
        "    # --- END CODE HERE"
      ],
      "metadata": {
        "id": "fGEMW1P1tllj"
      },
      "execution_count": null,
      "outputs": []
    },
    {
      "cell_type": "markdown",
      "source": [
        "### Define the model\n",
        "\n",
        "We write a function to perform the forward pass (using pytorch operators, not numpy operators) taking X as input and returing hat_y as output."
      ],
      "metadata": {
        "id": "GU472VdktqoP"
      }
    },
    {
      "cell_type": "code",
      "source": [
        "def model(X):\n",
        "    if student:\n",
        "        # --- START CODE HERE (02)\n",
        "        A0 = X   \n",
        "        Z1 = A0 @ W1 + b1\n",
        "        A1 = F.relu(Z1)\n",
        "        Z2 = A1 @ W2 + b2\n",
        "        A2 = F.relu(Z2)\n",
        "        Z3 = A2 @ W3 + b3\n",
        "        A3 = torch.sigmoid(Z3)\n",
        "        hat_y = A3\n",
        "        # --- END CODE HERE\n",
        "    return hat_y"
      ],
      "metadata": {
        "id": "1BWc4OoZts_l"
      },
      "execution_count": null,
      "outputs": []
    },
    {
      "cell_type": "markdown",
      "source": [
        "### Main training loop\n",
        "\n",
        "We iterate over epochs (we do not perform split into mini-batch here)\n",
        "For each iteration, we\n",
        "- a) perform the forward pass, \n",
        "- b) compute the loss/cost, \n",
        "- c) compute the backward pass to get the gradients of the cost w.r.t. the parameters W1, b1, ...\n",
        "- d) perform the update of the parameters W1, b1, ...\n",
        "\n",
        "***Important: pytorch restriction***\n",
        "When you update the parameters (W1, b1, ...) but subtracting a small part of the gradient, you should that ``inplace`` (W1 -= ??? and not W1 = W1 - ???). Otherwise pytorch will overide W1 by its value (it will eras its .grad filed).\n"
      ],
      "metadata": {
        "id": "-t--05ydty4g"
      }
    },
    {
      "cell_type": "code",
      "execution_count": null,
      "metadata": {
        "id": "HB65rqW4o60u",
        "colab": {
          "base_uri": "https://localhost:8080/"
        },
        "outputId": "e165cbfa-22de-4fe3-9cfb-0dd8d3cb27f6"
      },
      "outputs": [
        {
          "output_type": "stream",
          "name": "stdout",
          "text": [
            "epoch 0, loss 2.8566908836364746\n",
            "epoch 500, loss 0.2208055555820465\n",
            "epoch 1000, loss 0.21880953013896942\n",
            "epoch 1500, loss 0.21769632399082184\n",
            "epoch 2000, loss 0.21707645058631897\n",
            "epoch 2500, loss 0.21662864089012146\n",
            "epoch 3000, loss 0.21611683070659637\n",
            "epoch 3500, loss 0.2156885862350464\n",
            "epoch 4000, loss 0.21528397500514984\n",
            "epoch 4500, loss 0.21488747000694275\n",
            "epoch 5000, loss 0.2144680768251419\n",
            "epoch 5500, loss 0.21409271657466888\n",
            "epoch 6000, loss 0.21377038955688477\n",
            "epoch 6500, loss 0.21347887814044952\n",
            "epoch 7000, loss 0.21321041882038116\n",
            "epoch 7500, loss 0.2132292091846466\n",
            "epoch 8000, loss 0.2143525779247284\n",
            "epoch 8500, loss 0.2151549756526947\n",
            "epoch 9000, loss 0.21509845554828644\n",
            "epoch 9500, loss 0.21500396728515625\n"
          ]
        }
      ],
      "source": [
        "for num_epoch in range(0, nb_epoch):\n",
        "\n",
        "    # --- a) Forward pass: X (n_in, m), hat_y (n_out, m)\n",
        "    hat_y = model(X)\n",
        "\n",
        "    # -- We clip hat_y in order to avoid log(0) in the loss\n",
        "    eps = 1e-10\n",
        "    hat_y = torch.clamp(hat_y, eps, 1-eps)\n",
        "    \n",
        "    # --- b) Computing the loss/cost\n",
        "    if student:\n",
        "        # --- START CODE HERE (03)\n",
        "        loss = -(y * torch.log(hat_y) + (1 - y) * torch.log(1 - hat_y))\n",
        "        cost = torch.sum(loss) / y.shape[0]\n",
        "        # --- END CODE HERE\n",
        "    \n",
        "    if num_epoch % 500 == 0:\n",
        "        print('epoch {}, loss {}'.format(num_epoch, cost))\n",
        "\n",
        "    # --- c) Backward pass\n",
        "    cost.backward()\n",
        "    \n",
        "    # --- \"with torch.no_grad()\" temporarily set all the requires_grad flag to false\n",
        "    with torch.no_grad():\n",
        "        # --- d) perform the update of the parameters W1, b1, ...\n",
        "        if student:\n",
        "            # --- the gradients dLoss/dW1 is stored in W1.grad, dLoss/db1 is stored in b1.grad, ...\n",
        "            # --- START CODE HERE (04)\n",
        "            W1 -= alpha * W1.grad\n",
        "            b1 -= alpha * b1.grad\n",
        "            W2 -= alpha * W2.grad\n",
        "            b2 -= alpha * b2.grad\n",
        "            W3 -= alpha * W3.grad\n",
        "            b3 -= alpha * b3.grad\n",
        "            # --- END CODE HERE\n",
        "\n",
        "    # --- We need to set to zero all gradients (otherwise they are cumulated)\n",
        "    W1.grad.zero_()\n",
        "    b1.grad.zero_()\n",
        "    W2.grad.zero_()\n",
        "    b2.grad.zero_()\n",
        "    W3.grad.zero_()\n",
        "    b3.grad.zero_()"
      ]
    },
    {
      "cell_type": "markdown",
      "metadata": {
        "id": "lxgA4DXVo60w"
      },
      "source": [
        "## Model 2 (using nn.sequential)\n",
        "\n",
        "Here, you will use the package ```torch.nn``` which comes with a predefined set of layers. The syntax is close to the one of ```keras```(```Sequential```), but differs in the fact that layers are splitted into the matrix multiplication followed by a non-linear activations (```keras```merge both using the ```Dense```layers).\n",
        "\n",
        "The model created will have all its parameters accessible as a dictionary and can be accessed using ```model.parameters()```. It is therefore a convenient way to write simple sequential networks."
      ]
    },
    {
      "cell_type": "code",
      "execution_count": null,
      "metadata": {
        "id": "elGQpQzjo60x"
      },
      "outputs": [],
      "source": [
        "if student:\n",
        "    # --- START CODE HERE (05)\n",
        "    my_model = nn.Sequential(\n",
        "        nn.Linear(n_in, n_h1),\n",
        "        nn.ReLU(),\n",
        "        nn.Linear(n_h1, n_h2),\n",
        "        nn.ReLU(),\n",
        "        nn.Linear(n_h2, n_out),\n",
        "        nn.Sigmoid(),\n",
        "    )\n",
        "    # --- END CODE HERE\n"
      ]
    },
    {
      "cell_type": "markdown",
      "metadata": {
        "id": "ts4aVeIPo601"
      },
      "source": [
        "### Criterion and Optimization\n",
        "\n",
        "The code of Model 1 is self-contained, i.e. it already contains all necessary instruction to perform forward, loss, backward and parameter updates.\n",
        "\n",
        "When using ```nn.sequential``` (model 2) or a class definition of the network (model 3), we still need to define \n",
        "- what we will minimize (the loss to be minimized, i.e. Binary-Cross-Entropy). We can of course write the equation of it by hand but pytorch comes with a very large number of pre-build loss functions (within ```torch.nn```)\n",
        "- how we will minimize the loss, i.e. what parameter update algorithms we will use (SGD, momentum). We can of course write the equation of it by hand but pytorch comes with a very large number of pre-build loss functions (within ```torch.nn```)"
      ]
    },
    {
      "cell_type": "code",
      "execution_count": null,
      "metadata": {
        "id": "xs63V-Wgo602"
      },
      "outputs": [],
      "source": [
        "if student:\n",
        "    # --- START CODE HERE (08)\n",
        "    criterion = nn.BCELoss()\n",
        "    optimizer = torch.optim.SGD(my_model.parameters(), lr=0.1)\n",
        "    # --- END CODE HERE\n"
      ]
    },
    {
      "cell_type": "markdown",
      "metadata": {
        "id": "89ysZn6rw17u"
      },
      "source": [
        "### Main training loop\n",
        "\n",
        "Having defined the network, the citerion to be minimized and the optimizer, we then perform a loop over epochs (iterations); at each step we\n",
        "- compute the forward pass by passing the data to the model: ```haty = model(x)```\n",
        "- compute the the loss (the criterion)\n",
        "- putting at zero the gradients of all the parameters of the network (this is important since, by default, pytorch accumulate the gradients over time)\n",
        "- computing the backpropagation (using as before ```.backward()```)\n",
        "- performing one step of optimization (using ```.step()```)"
      ]
    },
    {
      "cell_type": "code",
      "execution_count": null,
      "metadata": {
        "id": "JROT567kw17u",
        "colab": {
          "base_uri": "https://localhost:8080/",
          "height": 625
        },
        "outputId": "1ff8502f-f78f-4f2c-e549-441b0669125c"
      },
      "outputs": [
        {
          "output_type": "stream",
          "name": "stdout",
          "text": [
            "epoch 0, loss 0.7212634682655334\n",
            "epoch 500, loss 0.2343306988477707\n",
            "epoch 1000, loss 0.2254764288663864\n",
            "epoch 1500, loss 0.22403058409690857\n",
            "epoch 2000, loss 0.22344572842121124\n",
            "epoch 2500, loss 0.22310349345207214\n",
            "epoch 3000, loss 0.22274574637413025\n",
            "epoch 3500, loss 0.22250163555145264\n",
            "epoch 4000, loss 0.22233226895332336\n",
            "epoch 4500, loss 0.22219815850257874\n",
            "epoch 5000, loss 0.2220286726951599\n",
            "epoch 5500, loss 0.2217758744955063\n",
            "epoch 6000, loss 0.22160100936889648\n",
            "epoch 6500, loss 0.22151291370391846\n",
            "epoch 7000, loss 0.22143088281154633\n",
            "epoch 7500, loss 0.22135677933692932\n",
            "epoch 8000, loss 0.22128821909427643\n",
            "epoch 8500, loss 0.2212240844964981\n",
            "epoch 9000, loss 0.22116775810718536\n",
            "epoch 9500, loss 0.22111374139785767\n"
          ]
        },
        {
          "output_type": "display_data",
          "data": {
            "text/plain": [
              "<Figure size 432x288 with 1 Axes>"
            ],
            "image/png": "[encoded data removed]"
          },
          "metadata": {
            "needs_background": "light"
          }
        }
      ],
      "source": [
        "loss_l = []\n",
        "for num_epoch in range(nb_epoch):\n",
        "  \n",
        "    if student:\n",
        "        # --- START CODE HERE (09)\n",
        "        hat_y = my_model(X) # Forward pass: Compute predicted y by passing  x to the model          \n",
        "        loss = criterion(hat_y, y) # Compute loss \n",
        "        # Zero gradients, perform a backward pass, and update the weights. \n",
        "        optimizer.zero_grad() # re-init the gradients (otherwise they are cumulated)\n",
        "        loss.backward() # perform back-propagation\n",
        "        optimizer.step() # update the weights\n",
        "        # --- END CODE HERE\n",
        "        \n",
        "    loss_l.append(loss.item())\n",
        "\n",
        "    if num_epoch % 500 == 0:\n",
        "        print('epoch {}, loss {}'.format(num_epoch, loss.item()))\n",
        "        \n",
        "# ----------------\n",
        "plt.plot(loss_l);"
      ]
    },
    {
      "cell_type": "markdown",
      "metadata": {
        "id": "4twpnbEAo60z"
      },
      "source": [
        "## Model 3 (using a class definition)\n",
        "\n",
        "Here, you will write the network using the recommended pytroch way; i.e. by defining a class.\n",
        "This class inherit from the main class ```torch.nn.Module```.\n",
        "You only need to write the ```__init__``` method and the ```forward``` method.\n",
        "\n",
        "In object programming, the ```__init__``` method defines the attributes of your class. Since the attributes of your  network are the parameters to be trained (weights and biases), you should declare in the ```__init``` all the layers that involve parameters to be trained (mostly the ```Linear```layers which perform the matrix multiplication).\n",
        "\n",
        "The ```forward``` method contains the code of the forward pass itself. It can of course call attributes defined in the ```__init___``` method. It is the method used when calling ```model(x)```.\n",
        "\n",
        "As before, the model created will have all its parameters accessible as a dictionary and can be accessed using ```model.parameters()```. \n",
        "\n",
        "Classes are convenient way to write more complex network than what you can do with ```nn.sequential```. Note that you can actually include a ```nn.sequential``` in your class."
      ]
    },
    {
      "cell_type": "code",
      "execution_count": null,
      "metadata": {
        "id": "ZNsNkq9Do60z"
      },
      "outputs": [],
      "source": [
        "class Net(torch.nn.Module):\n",
        "    def __init__(self, n_in, n_h1, n_h2, n_out):\n",
        "        super(Net, self).__init__()\n",
        "        \n",
        "        if student:\n",
        "            # --- START CODE HERE (06)\n",
        "            self.fc1 = nn.Linear(n_in, n_h1) # hidden layer 1\n",
        "            self.fc2 = nn.Linear(n_h1, n_h2) # hidden layer 2\n",
        "            self.fc3 = nn.Linear(n_h2, n_out)  # output layer\n",
        "            # --- END CODE HERE\n",
        "        \n",
        "    def forward(self, X):\n",
        "        \n",
        "        if student:\n",
        "            # --- START CODE HERE (07)\n",
        "            A0 = X\n",
        "            A1 = self.fc1(A0).relu()   # activation function for hidden layer 1\n",
        "            A2 = self.fc2(A1).relu()   # activation function for hidden layer 2\n",
        "            A3 = self.fc3(A2).sigmoid()   # activation function for output layer\n",
        "            # --- END CODE HERE\n",
        "\n",
        "        return A3\n",
        "\n",
        "# --- START CODE HERE\n",
        "my_model = Net(n_in, n_h1, n_h2, n_out)\n",
        "# --- END CODE HERE"
      ]
    },
    {
      "cell_type": "markdown",
      "metadata": {
        "id": "VfOoKPMtwfLI"
      },
      "source": [
        "### Criterion and Optimization (same as for model 2 -> copy and paste your code)"
      ]
    },
    {
      "cell_type": "code",
      "execution_count": null,
      "metadata": {
        "id": "e-DC96kOwfLJ"
      },
      "outputs": [],
      "source": [
        "if student:\n",
        "    # --- START CODE HERE (08)\n",
        "    criterion = nn.BCELoss()\n",
        "    optimizer = torch.optim.SGD(my_model.parameters(), lr=0.1)\n",
        "    # --- END CODE HERE\n"
      ]
    },
    {
      "cell_type": "markdown",
      "metadata": {
        "id": "XamuBM_ho604"
      },
      "source": [
        "### Main training loop (same as for model 2 -> copy and paste your code)\n"
      ]
    },
    {
      "cell_type": "code",
      "execution_count": null,
      "metadata": {
        "id": "rKfrD8V3o605",
        "colab": {
          "base_uri": "https://localhost:8080/",
          "height": 625
        },
        "outputId": "3fbc8256-0069-4ecf-f1cd-9172e2e002de"
      },
      "outputs": [
        {
          "output_type": "stream",
          "name": "stdout",
          "text": [
            "epoch 0, loss 0.6988155841827393\n",
            "epoch 500, loss 0.22793202102184296\n",
            "epoch 1000, loss 0.22238411009311676\n",
            "epoch 1500, loss 0.22149017453193665\n",
            "epoch 2000, loss 0.22109860181808472\n",
            "epoch 2500, loss 0.22072330117225647\n",
            "epoch 3000, loss 0.22039707005023956\n",
            "epoch 3500, loss 0.22006943821907043\n",
            "epoch 4000, loss 0.2198285609483719\n",
            "epoch 4500, loss 0.21961162984371185\n",
            "epoch 5000, loss 0.21939963102340698\n",
            "epoch 5500, loss 0.21921029686927795\n",
            "epoch 6000, loss 0.2190333753824234\n",
            "epoch 6500, loss 0.21885961294174194\n",
            "epoch 7000, loss 0.2187088578939438\n",
            "epoch 7500, loss 0.21856965124607086\n",
            "epoch 8000, loss 0.2184373289346695\n",
            "epoch 8500, loss 0.2183130383491516\n",
            "epoch 9000, loss 0.21819619834423065\n",
            "epoch 9500, loss 0.21808578073978424\n"
          ]
        },
        {
          "output_type": "display_data",
          "data": {
            "text/plain": [
              "<Figure size 432x288 with 1 Axes>"
            ],
            "image/png": "[encoded data removed]"
          },
          "metadata": {
            "needs_background": "light"
          }
        }
      ],
      "source": [
        "loss_l = []\n",
        "for num_epoch in range(nb_epoch):\n",
        "  \n",
        "    if student:\n",
        "        # --- START CODE HERE (09)\n",
        "        hat_y = my_model(X) # Forward pass: Compute predicted y by passing  x to the model          \n",
        "        loss = criterion(hat_y, y) # Compute loss \n",
        "        # Zero gradients, perform a backward pass, and update the weights. \n",
        "        optimizer.zero_grad() # re-init the gradients (otherwise they are cumulated)\n",
        "        loss.backward() # perform back-propagation\n",
        "        optimizer.step() # update the weights\n",
        "        # --- END CODE HERE\n",
        "        \n",
        "    loss_l.append(loss.item())\n",
        "\n",
        "    if num_epoch % 500 == 0:\n",
        "        print('epoch {}, loss {}'.format(num_epoch, loss.item()))\n",
        "        \n",
        "# ----------------\n",
        "plt.plot(loss_l); "
      ]
    },
    {
      "cell_type": "markdown",
      "source": [
        "# Evaluation\n",
        "\n",
        "To evaluate the work, you should rate the code for \n",
        "- 1) Model 1: Initialization of W1, b1, ... (01)\n",
        "- 2) Model 1: Forward-pass (02)\n",
        "- 3) Model 1: Loss and Cost computation  (03)\n",
        "- 4) Model 1: Manual update of the parameters (04)\n",
        "- 5) Model 2: using nn.sequential (05)\n",
        "- 6) Model 3: using class definition: __init__ method (06)\n",
        "- 7) Model 3: using class definition: forward method (07)\n",
        "- 8) Model 2 and 3: Loss (criterion) and parameter update algorithms (optimizer) (08)\n",
        "- 9) Model 2 and 3: code inside the loop (09)"
      ],
      "metadata": {
        "id": "SeadOclLjGbn"
      }
    }
  ],
  "metadata": {
    "colab": {
      "collapsed_sections": [],
      "provenance": []
    },
    "kernelspec": {
      "display_name": "Python 3",
      "language": "python",
      "name": "python3"
    },
    "language_info": {
      "codemirror_mode": {
        "name": "ipython",
        "version": 3
      },
      "file_extension": ".py",
      "mimetype": "text/x-python",
      "name": "python",
      "nbconvert_exporter": "python",
      "pygments_lexer": "ipython3",
      "version": "3.8.5"
    },
    "toc": {
      "base_numbering": 1,
      "nav_menu": {},
      "number_sections": true,
      "sideBar": true,
      "skip_h1_title": false,
      "title_cell": "Table of Contents",
      "title_sidebar": "Contents",
      "toc_cell": false,
      "toc_position": {},
      "toc_section_display": true,
      "toc_window_display": true
    }
  },
  "nbformat": 4,
  "nbformat_minor": 0
}