{
  "nbformat": 4,
  "nbformat_minor": 0,
  "metadata": {
    "colab": {
      "provenance": [],
      "toc_visible": true
    },
    "kernelspec": {
      "name": "python3",
      "display_name": "Python 3"
    },
    "language_info": {
      "name": "python"
    },
    "accelerator": "GPU"
  },
  "cells": [
    {
      "cell_type": "markdown",
      "source": [
        "# Introduction to keras\n",
        "\n",
        "<img src=\"https://keras.io/img/logo.png\" width=300>\n",
        "\n",
        "- Author: geoffroy.peeters@telecom-paris.fr\n",
        "- Date: 2022/05/30\n",
        "\n",
        "Keras is an open-source software library that provides a Python interface for artificial neural networks. \n",
        "Keras acts as an interface for the TensorFlow library.\n",
        "Up until version 2.3, Keras supported multiple backends, including TensorFlow and Theano. \n",
        "As of version 2.4, only TensorFlow is supported. \n",
        "Designed to enable fast experimentation with deep neural networks, it focuses on being user-friendly, modular, and extensible. \n",
        "Its primary author and maintainer is François Chollet from the ENSTA Paris school, now a Google engineer.\n",
        "\n",
        "**See also:**\n",
        "- man documentation on https://keras.io/\n",
        "- [keras cheet sheat](https://res.cloudinary.com/dyd911kmh/image/upload/v1653829364/Marketing/Blog/Keras_Cheat_Sheet.pdf)\n",
        "\n",
        "Recommended book: \"Deep Learning with Python\" by François Chollet\n",
        "\n",
        "<img src=\"https://images-eu.ssl-images-amazon.com/images/I/71PRvtkPAZL._AC_UL232_SR232,232_.jpg\" width=200>\n",
        "\n",
        "\n"
      ],
      "metadata": {
        "id": "1Kb0XhRPjdus"
      }
    },
    {
      "cell_type": "markdown",
      "source": [
        "# Typical Keras Dataflow\n",
        "\n",
        "\n",
        "<img src=\"https://docs.google.com/uc?export=download&id=1LBIcg-PV62PlBDS77zwGZVxJaCSfSXW_\" width=300>\n"
      ],
      "metadata": {
        "id": "1iHW7qrimzT1"
      }
    },
    {
      "cell_type": "markdown",
      "source": [
        "# Keras import"
      ],
      "metadata": {
        "id": "iaC9qDivjnnh"
      }
    },
    {
      "cell_type": "code",
      "execution_count": null,
      "metadata": {
        "colab": {
          "base_uri": "https://localhost:8080/"
        },
        "id": "8nWcpiO0ZCv-",
        "outputId": "7918b73a-79f6-4d1f-e1b9-7f250a4dd3c2"
      },
      "outputs": [
        {
          "output_type": "stream",
          "name": "stdout",
          "text": [
            "2.8.0\n"
          ]
        }
      ],
      "source": [
        "from tensorflow import keras\n",
        "print(keras.__version__)"
      ]
    },
    {
      "cell_type": "markdown",
      "source": [
        "Check GPU accessibility"
      ],
      "metadata": {
        "id": "TzignnQTKWrk"
      }
    },
    {
      "cell_type": "code",
      "source": [
        "!nvidia-smi"
      ],
      "metadata": {
        "colab": {
          "base_uri": "https://localhost:8080/"
        },
        "id": "lmYZKZIHKagR",
        "outputId": "d4facdf1-217f-4864-ded5-86395ac4c176"
      },
      "execution_count": null,
      "outputs": [
        {
          "output_type": "stream",
          "name": "stdout",
          "text": [
            "Wed Jun 15 06:49:41 2022       \n",
            "+-----------------------------------------------------------------------------+\n",
            "| NVIDIA-SMI 460.32.03    Driver Version: 460.32.03    CUDA Version: 11.2     |\n",
            "|-------------------------------+----------------------+----------------------+\n",
            "| GPU  Name        Persistence-M| Bus-Id        Disp.A | Volatile Uncorr. ECC |\n",
            "| Fan  Temp  Perf  Pwr:Usage/Cap|         Memory-Usage | GPU-Util  Compute M. |\n",
            "|                               |                      |               MIG M. |\n",
            "|===============================+======================+======================|\n",
            "|   0  Tesla P100-PCIE...  Off  | 00000000:00:04.0 Off |                    0 |\n",
            "| N/A   39C    P0    27W / 250W |      0MiB / 16280MiB |      0%      Default |\n",
            "|                               |                      |                  N/A |\n",
            "+-------------------------------+----------------------+----------------------+\n",
            "                                                                               \n",
            "+-----------------------------------------------------------------------------+\n",
            "| Processes:                                                                  |\n",
            "|  GPU   GI   CI        PID   Type   Process name                  GPU Memory |\n",
            "|        ID   ID                                                   Usage      |\n",
            "|=============================================================================|\n",
            "|  No running processes found                                                 |\n",
            "+-----------------------------------------------------------------------------+\n"
          ]
        }
      ]
    },
    {
      "cell_type": "markdown",
      "source": [
        "# Exemple 1: Dummy data classification"
      ],
      "metadata": {
        "id": "OZ_1CksubnVc"
      }
    },
    {
      "cell_type": "markdown",
      "source": [
        "## Data loading\n",
        "\n",
        "For this first application, we will create some dummy data (i.e. artifical data just created to test machine learning models)."
      ],
      "metadata": {
        "id": "GYjUZPKgrBzH"
      }
    },
    {
      "cell_type": "code",
      "source": [
        "from sklearn import datasets\n",
        "data, labels = datasets.make_classification(n_samples=1000, \n",
        "                                            n_features=5, \n",
        "                                            n_informative=5, \n",
        "                                            n_redundant=0, \n",
        "                                            n_classes=3, \n",
        "                                            n_clusters_per_class=1, \n",
        "                                            class_sep=1.5) "
      ],
      "metadata": {
        "id": "xTfh41RbbrvS"
      },
      "execution_count": null,
      "outputs": []
    },
    {
      "cell_type": "markdown",
      "source": [
        "We can display the first two dimensions of the data with the associated labels represented as colors."
      ],
      "metadata": {
        "id": "g0FjRAFTkABH"
      }
    },
    {
      "cell_type": "code",
      "source": [
        "import matplotlib.pyplot as plt\n",
        "color_l = ['red', 'blue', 'green', 'pink', 'yellow']\n",
        "colors = [color_l[label] for label in labels]\n",
        "plt.scatter(data[:,0], data[:,1], color=colors);"
      ],
      "metadata": {
        "colab": {
          "base_uri": "https://localhost:8080/",
          "height": 265
        },
        "id": "VmccItcxcNUK",
        "outputId": "880b3399-3d97-45f2-ec23-89998078dbf5"
      },
      "execution_count": null,
      "outputs": [
        {
          "output_type": "display_data",
          "data": {
            "text/plain": [
              "<Figure size 432x288 with 1 Axes>"
            ],
            "image/png": "[encoded data removed]"
          },
          "metadata": {
            "needs_background": "light"
          }
        }
      ]
    },
    {
      "cell_type": "markdown",
      "source": [
        "## Data preparation"
      ],
      "metadata": {
        "id": "3574FTbCrEAe"
      }
    },
    {
      "cell_type": "markdown",
      "source": [
        "As for all machine-learning models, we split the data into a training part and a test part."
      ],
      "metadata": {
        "id": "kRrRxYU5kHLc"
      }
    },
    {
      "cell_type": "code",
      "source": [
        "from sklearn import model_selection\n",
        "\n",
        "x_train, x_test, y_train, y_test = model_selection.train_test_split(data, labels, test_size = 0.1)\n",
        "\n",
        "print(f'x_train: {x_train.shape}')\n",
        "print(f'x_test: {x_test.shape}')\n"
      ],
      "metadata": {
        "colab": {
          "base_uri": "https://localhost:8080/"
        },
        "id": "YWCMlTT2cyT2",
        "outputId": "e33b0790-ba1c-4690-ec0d-ebbd5200edc0"
      },
      "execution_count": null,
      "outputs": [
        {
          "output_type": "stream",
          "name": "stdout",
          "text": [
            "x_train: (900, 5)\n",
            "x_test: (100, 5)\n"
          ]
        }
      ]
    },
    {
      "cell_type": "markdown",
      "source": [
        "We deal with a multi-class classification problem. The output of our network will therefore have $C$ different neurons. We need to map the ground-truth classes to the same format."
      ],
      "metadata": {
        "id": "LZEztyVvkRta"
      }
    },
    {
      "cell_type": "code",
      "source": [
        "from tensorflow.keras.utils import to_categorical \n",
        "\n",
        "y_train_oh = to_categorical(y_train)\n",
        "y_test_oh = to_categorical(y_test)\n",
        "\n",
        "print(f'y_train_oh: {y_train_oh.shape}')\n",
        "print(f'y_test_oh: {y_test_oh.shape}')"
      ],
      "metadata": {
        "colab": {
          "base_uri": "https://localhost:8080/"
        },
        "id": "VBZwTYtljvph",
        "outputId": "d8e4de70-9e19-4ca6-de9b-d39eed7f9568"
      },
      "execution_count": null,
      "outputs": [
        {
          "output_type": "stream",
          "name": "stdout",
          "text": [
            "y_train_oh: (900, 3)\n",
            "y_test_oh: (100, 3)\n"
          ]
        }
      ]
    },
    {
      "cell_type": "markdown",
      "source": [
        "## Model definition"
      ],
      "metadata": {
        "id": "tsRyMBTIqXVz"
      }
    },
    {
      "cell_type": "markdown",
      "source": [
        "We now create the flow-chart/ architecture of our Deep-Neural-Network.\n",
        "\n",
        "<img src=\"https://docs.google.com/uc?export=download&id=1TJBr-trS67gx7oHbpO77tV2F35Vm9D77\" width=300>\n",
        "\n",
        "We can do this using the **Sequential API**.\n",
        "\n"
      ],
      "metadata": {
        "id": "t9PdWoTBkgnl"
      }
    },
    {
      "cell_type": "code",
      "source": [
        "from tensorflow.keras.models import Sequential\n",
        "from tensorflow.keras.layers import Dense, Activation, Dropout\n",
        "\n",
        "n_in = 5\n",
        "n_h = 32\n",
        "n_out = 3\n",
        "\n",
        "model = Sequential()\n",
        "model.add(Dense(n_h, input_dim=n_in))\n",
        "model.add(Activation('ReLU'))\n",
        "model.add(Dropout(rate = 0.5))\n",
        "model.add(Dense(n_out))\n",
        "model.add(Activation('softmax'))"
      ],
      "metadata": {
        "id": "8WwcxUuEebfY"
      },
      "execution_count": null,
      "outputs": []
    },
    {
      "cell_type": "code",
      "source": [
        "model = Sequential([\n",
        "                    Dense(n_h, input_dim=n_in), \n",
        "                    Activation('ReLU'),\n",
        "                    Dropout(rate = 0.5),\n",
        "                    Dense(3), \n",
        "                    Activation('softmax'),\n",
        "                    ])"
      ],
      "metadata": {
        "id": "MZtKyd8sl24j"
      },
      "execution_count": null,
      "outputs": []
    },
    {
      "cell_type": "markdown",
      "source": [
        "We can do the same using the **Functional API**."
      ],
      "metadata": {
        "id": "cNuxNPGxnHMx"
      }
    },
    {
      "cell_type": "code",
      "source": [
        "from tensorflow.keras.models import Model\n",
        "\n",
        "X = keras.Input(shape=(x_train.shape[1],))\n",
        "Z = Dense(n_h)(X)\n",
        "Z = Activation('ReLU')(Z)\n",
        "Z = Dropout(rate = 0.5)(Z)\n",
        "Z = Dense(3)(Z)\n",
        "Y = Activation('softmax')(Z)\n",
        "model = Model(inputs=X, outputs=Y)"
      ],
      "metadata": {
        "id": "SGgC0S7znIpu"
      },
      "execution_count": null,
      "outputs": []
    },
    {
      "cell_type": "markdown",
      "source": [
        "We can display a summary of the flow-chart/ architecture of our Deep-Neural-Network."
      ],
      "metadata": {
        "id": "SNYssH-_l9FK"
      }
    },
    {
      "cell_type": "code",
      "source": [
        "model.summary()"
      ],
      "metadata": {
        "colab": {
          "base_uri": "https://localhost:8080/"
        },
        "id": "xDrzshZUl2rw",
        "outputId": "2a455c5c-7f0f-4fb5-ec0e-b8e1b52e1d83"
      },
      "execution_count": null,
      "outputs": [
        {
          "output_type": "stream",
          "name": "stdout",
          "text": [
            "Model: \"model\"\n",
            "_________________________________________________________________\n",
            " Layer (type)                Output Shape              Param #   \n",
            "=================================================================\n",
            " input_1 (InputLayer)        [(None, 5)]               0         \n",
            "                                                                 \n",
            " dense_2 (Dense)             (None, 32)                192       \n",
            "                                                                 \n",
            " activation_2 (Activation)   (None, 32)                0         \n",
            "                                                                 \n",
            " dropout (Dropout)           (None, 32)                0         \n",
            "                                                                 \n",
            " dense_3 (Dense)             (None, 3)                 99        \n",
            "                                                                 \n",
            " activation_3 (Activation)   (None, 3)                 0         \n",
            "                                                                 \n",
            "=================================================================\n",
            "Total params: 291\n",
            "Trainable params: 291\n",
            "Non-trainable params: 0\n",
            "_________________________________________________________________\n"
          ]
        }
      ]
    },
    {
      "cell_type": "markdown",
      "source": [
        "## Model compilation\n",
        "\n",
        "To compile it, we need to define at least\n",
        "- a loss to be minimized during training \n",
        "- an optimizer, which indicates how the loss will be minimized (example: using the simple Steepest Gradient Descent --- SGD ---)"
      ],
      "metadata": {
        "id": "-5ZRyh-7ktGC"
      }
    },
    {
      "cell_type": "code",
      "source": [
        "opt = keras.optimizers.SGD(learning_rate=0.01, decay=10e-6)\n",
        "opt = keras.optimizers.Adam(learning_rate=0.01)\n",
        "\n",
        "model.compile(optimizer=opt, loss='categorical_crossentropy', metrics='acc')"
      ],
      "metadata": {
        "id": "lUB2OqTGkqvu"
      },
      "execution_count": null,
      "outputs": []
    },
    {
      "cell_type": "markdown",
      "source": [
        "## Model fitting (training)\n",
        "\n",
        "To train (.fit) the model, we need to define training-data (x and y), optional validation-data, the number of epochs, the size of a mini-batch and opional callback (such as Early-Stopping)\n",
        "\n",
        "<img src=\"https://docs.google.com/uc?export=download&id=1LFbfyj43FJIzrq_QC11qoBB9xOXNQ4yz\" width=300>\n"
      ],
      "metadata": {
        "id": "T3NZEJ7ek_J0"
      }
    },
    {
      "cell_type": "code",
      "source": [
        "from keras.callbacks import EarlyStopping\n",
        "early_stopping = EarlyStopping(monitor='val_loss', patience=5)\n",
        "\n",
        "history = model.fit(x=x_train, y=y_train_oh, \n",
        "                    validation_data=(x_test, y_test_oh), \n",
        "                    epochs=100, \n",
        "                    batch_size=32, \n",
        "                    shuffle=True,\n",
        "                    callbacks=[early_stopping],\n",
        "                    verbose=0)"
      ],
      "metadata": {
        "id": "gHXlgrxkfFgI"
      },
      "execution_count": null,
      "outputs": []
    },
    {
      "cell_type": "markdown",
      "source": [
        "The output variable ``history`` contains the values of the loss over epochs. We can display it to check that the training was good."
      ],
      "metadata": {
        "id": "KAxKH74HlR-j"
      }
    },
    {
      "cell_type": "code",
      "source": [
        "plt.figure(figsize=(14,6))\n",
        "plt.subplot(1,2,1)\n",
        "plt.plot(history.history['loss'], label='train');\n",
        "plt.plot(history.history['val_loss'], label='valid');\n",
        "plt.grid(True);\n",
        "plt.legend();\n",
        "plt.title('Loss')\n",
        "\n",
        "\n",
        "plt.subplot(1,2,2)\n",
        "plt.plot(history.history['acc'], label='train');\n",
        "plt.plot(history.history['val_acc'], label='valid');\n",
        "plt.grid(True);\n",
        "plt.legend();\n",
        "plt.title('Accuracy')"
      ],
      "metadata": {
        "colab": {
          "base_uri": "https://localhost:8080/",
          "height": 398
        },
        "id": "iwhrlR_JgtFs",
        "outputId": "be4463e5-0b1b-401b-e1cd-bfdafe699be5"
      },
      "execution_count": null,
      "outputs": [
        {
          "output_type": "execute_result",
          "data": {
            "text/plain": [
              "Text(0.5, 1.0, 'Accuracy')"
            ]
          },
          "metadata": {},
          "execution_count": 14
        },
        {
          "output_type": "display_data",
          "data": {
            "text/plain": [
              "<Figure size 1008x432 with 2 Axes>"
            ],
            "image/png": "[encoded data removed]"
          },
          "metadata": {
            "needs_background": "light"
          }
        }
      ]
    },
    {
      "cell_type": "markdown",
      "source": [
        "## Model testing"
      ],
      "metadata": {
        "id": "ZDJ-stzhi0wV"
      }
    },
    {
      "cell_type": "code",
      "source": [
        "from sklearn.metrics import confusion_matrix\n",
        "\n",
        "hat_y_test_oh = model.predict(x_test)\n",
        "\n",
        "matrix = confusion_matrix(y_test_oh.argmax(axis=1), hat_y_test_oh.argmax(axis=1))\n",
        "print (matrix)"
      ],
      "metadata": {
        "colab": {
          "base_uri": "https://localhost:8080/"
        },
        "id": "5LzzSlmshxPC",
        "outputId": "2efb5725-c520-447e-f89f-c5153ea3a620"
      },
      "execution_count": null,
      "outputs": [
        {
          "output_type": "stream",
          "name": "stdout",
          "text": [
            "[[29  0  0]\n",
            " [ 0 37  1]\n",
            " [ 0  0 33]]\n"
          ]
        }
      ]
    },
    {
      "cell_type": "code",
      "source": [
        "score = model.evaluate( y_test_oh, hat_y_test_oh )\n",
        "\n",
        "print(score)"
      ],
      "metadata": {
        "colab": {
          "base_uri": "https://localhost:8080/",
          "height": 746
        },
        "id": "VFA1KRbzimFy",
        "outputId": "b8b3bbc4-b009-45a8-adb5-f782ee98ede9"
      },
      "execution_count": null,
      "outputs": [
        {
          "output_type": "error",
          "ename": "ValueError",
          "evalue": "ignored",
          "traceback": [
            "\u001b[0;31m---------------------------------------------------------------------------\u001b[0m",
            "\u001b[0;31mValueError\u001b[0m                                Traceback (most recent call last)",
            "\u001b[0;32m<ipython-input-16-20c7bb6b7e54>\u001b[0m in \u001b[0;36m<module>\u001b[0;34m()\u001b[0m\n\u001b[0;32m----> 1\u001b[0;31m \u001b[0mscore\u001b[0m \u001b[0;34m=\u001b[0m \u001b[0mmodel\u001b[0m\u001b[0;34m.\u001b[0m\u001b[0mevaluate\u001b[0m\u001b[0;34m(\u001b[0m \u001b[0my_test_oh\u001b[0m\u001b[0;34m,\u001b[0m \u001b[0mhat_y_test_oh\u001b[0m \u001b[0;34m)\u001b[0m\u001b[0;34m\u001b[0m\u001b[0;34m\u001b[0m\u001b[0m\n\u001b[0m\u001b[1;32m      2\u001b[0m \u001b[0;34m\u001b[0m\u001b[0m\n\u001b[1;32m      3\u001b[0m \u001b[0mprint\u001b[0m\u001b[0;34m(\u001b[0m\u001b[0mscore\u001b[0m\u001b[0;34m)\u001b[0m\u001b[0;34m\u001b[0m\u001b[0;34m\u001b[0m\u001b[0m\n",
            "\u001b[0;32m/usr/local/lib/python3.7/dist-packages/keras/utils/traceback_utils.py\u001b[0m in \u001b[0;36merror_handler\u001b[0;34m(*args, **kwargs)\u001b[0m\n\u001b[1;32m     65\u001b[0m     \u001b[0;32mexcept\u001b[0m \u001b[0mException\u001b[0m \u001b[0;32mas\u001b[0m \u001b[0me\u001b[0m\u001b[0;34m:\u001b[0m  \u001b[0;31m# pylint: disable=broad-except\u001b[0m\u001b[0;34m\u001b[0m\u001b[0;34m\u001b[0m\u001b[0m\n\u001b[1;32m     66\u001b[0m       \u001b[0mfiltered_tb\u001b[0m \u001b[0;34m=\u001b[0m \u001b[0m_process_traceback_frames\u001b[0m\u001b[0;34m(\u001b[0m\u001b[0me\u001b[0m\u001b[0;34m.\u001b[0m\u001b[0m__traceback__\u001b[0m\u001b[0;34m)\u001b[0m\u001b[0;34m\u001b[0m\u001b[0;34m\u001b[0m\u001b[0m\n\u001b[0;32m---> 67\u001b[0;31m       \u001b[0;32mraise\u001b[0m \u001b[0me\u001b[0m\u001b[0;34m.\u001b[0m\u001b[0mwith_traceback\u001b[0m\u001b[0;34m(\u001b[0m\u001b[0mfiltered_tb\u001b[0m\u001b[0;34m)\u001b[0m \u001b[0;32mfrom\u001b[0m \u001b[0;32mNone\u001b[0m\u001b[0;34m\u001b[0m\u001b[0;34m\u001b[0m\u001b[0m\n\u001b[0m\u001b[1;32m     68\u001b[0m     \u001b[0;32mfinally\u001b[0m\u001b[0;34m:\u001b[0m\u001b[0;34m\u001b[0m\u001b[0;34m\u001b[0m\u001b[0m\n\u001b[1;32m     69\u001b[0m       \u001b[0;32mdel\u001b[0m \u001b[0mfiltered_tb\u001b[0m\u001b[0;34m\u001b[0m\u001b[0;34m\u001b[0m\u001b[0m\n",
            "\u001b[0;32m/usr/local/lib/python3.7/dist-packages/tensorflow/python/framework/func_graph.py\u001b[0m in \u001b[0;36mautograph_handler\u001b[0;34m(*args, **kwargs)\u001b[0m\n\u001b[1;32m   1145\u001b[0m           \u001b[0;32mexcept\u001b[0m \u001b[0mException\u001b[0m \u001b[0;32mas\u001b[0m \u001b[0me\u001b[0m\u001b[0;34m:\u001b[0m  \u001b[0;31m# pylint:disable=broad-except\u001b[0m\u001b[0;34m\u001b[0m\u001b[0;34m\u001b[0m\u001b[0m\n\u001b[1;32m   1146\u001b[0m             \u001b[0;32mif\u001b[0m \u001b[0mhasattr\u001b[0m\u001b[0;34m(\u001b[0m\u001b[0me\u001b[0m\u001b[0;34m,\u001b[0m \u001b[0;34m\"ag_error_metadata\"\u001b[0m\u001b[0;34m)\u001b[0m\u001b[0;34m:\u001b[0m\u001b[0;34m\u001b[0m\u001b[0;34m\u001b[0m\u001b[0m\n\u001b[0;32m-> 1147\u001b[0;31m               \u001b[0;32mraise\u001b[0m \u001b[0me\u001b[0m\u001b[0;34m.\u001b[0m\u001b[0mag_error_metadata\u001b[0m\u001b[0;34m.\u001b[0m\u001b[0mto_exception\u001b[0m\u001b[0;34m(\u001b[0m\u001b[0me\u001b[0m\u001b[0;34m)\u001b[0m\u001b[0;34m\u001b[0m\u001b[0;34m\u001b[0m\u001b[0m\n\u001b[0m\u001b[1;32m   1148\u001b[0m             \u001b[0;32melse\u001b[0m\u001b[0;34m:\u001b[0m\u001b[0;34m\u001b[0m\u001b[0;34m\u001b[0m\u001b[0m\n\u001b[1;32m   1149\u001b[0m               \u001b[0;32mraise\u001b[0m\u001b[0;34m\u001b[0m\u001b[0;34m\u001b[0m\u001b[0m\n",
            "\u001b[0;31mValueError\u001b[0m: in user code:\n\n    File \"/usr/local/lib/python3.7/dist-packages/keras/engine/training.py\", line 1525, in test_function  *\n        return step_function(self, iterator)\n    File \"/usr/local/lib/python3.7/dist-packages/keras/engine/training.py\", line 1514, in step_function  **\n        outputs = model.distribute_strategy.run(run_step, args=(data,))\n    File \"/usr/local/lib/python3.7/dist-packages/keras/engine/training.py\", line 1507, in run_step  **\n        outputs = model.test_step(data)\n    File \"/usr/local/lib/python3.7/dist-packages/keras/engine/training.py\", line 1471, in test_step\n        y_pred = self(x, training=False)\n    File \"/usr/local/lib/python3.7/dist-packages/keras/utils/traceback_utils.py\", line 67, in error_handler\n        raise e.with_traceback(filtered_tb) from None\n    File \"/usr/local/lib/python3.7/dist-packages/keras/engine/input_spec.py\", line 264, in assert_input_compatibility\n        raise ValueError(f'Input {input_index} of layer \"{layer_name}\" is '\n\n    ValueError: Input 0 of layer \"model\" is incompatible with the layer: expected shape=(None, 5), found shape=(None, 3)\n"
          ]
        }
      ]
    },
    {
      "cell_type": "markdown",
      "source": [
        "## Save the trained model"
      ],
      "metadata": {
        "id": "s6VHhQVci3Vj"
      }
    },
    {
      "cell_type": "code",
      "source": [
        "model.save('trained_model.h5')\n",
        "model.save_weights('my_model_weights.h5')\n",
        "del(model)"
      ],
      "metadata": {
        "id": "itgmrwTZi7VD"
      },
      "execution_count": null,
      "outputs": []
    },
    {
      "cell_type": "code",
      "source": [
        "from tensorflow.keras.models import load_model\n",
        "model = load_model('trained_model.h5')\n",
        "model.load_weights('my_model_weights.h5', by_name=True)"
      ],
      "metadata": {
        "id": "T_c0RmGfjHTJ"
      },
      "execution_count": null,
      "outputs": []
    },
    {
      "cell_type": "code",
      "source": [
        "model.layers[0].__dict__"
      ],
      "metadata": {
        "colab": {
          "base_uri": "https://localhost:8080/"
        },
        "id": "j_pXEetzoBE0",
        "outputId": "d8ad55bd-e073-4270-c424-8c65d305a265"
      },
      "execution_count": null,
      "outputs": [
        {
          "output_type": "execute_result",
          "data": {
            "text/plain": [
              "{'_activity_regularizer': None,\n",
              " '_auto_track_sub_layers': True,\n",
              " '_autocast': True,\n",
              " '_batch_input_shape': (None, 5),\n",
              " '_build_input_shape': TensorShape([None, 5]),\n",
              " '_callable_losses': [],\n",
              " '_compute_dtype_object': tf.float32,\n",
              " '_default_training_arg': None,\n",
              " '_dtype_policy': <Policy \"float32\">,\n",
              " '_dynamic': False,\n",
              " '_expects_mask_arg': False,\n",
              " '_expects_training_arg': False,\n",
              " '_inbound_nodes_value': [<keras.engine.node.Node at 0x7f0e44641cd0>],\n",
              " '_initial_weights': None,\n",
              " '_input_spec': InputSpec(min_ndim=2, axes={-1: 5}),\n",
              " '_instrumented_keras_api': True,\n",
              " '_instrumented_keras_layer_class': True,\n",
              " '_instrumented_keras_model_class': False,\n",
              " '_losses': [],\n",
              " '_metrics': [],\n",
              " '_metrics_lock': <unlocked _thread.lock object at 0x7f0e4a91c3c0>,\n",
              " '_name': 'dense_12',\n",
              " '_non_trainable_weights': [],\n",
              " '_obj_reference_counts_dict': ObjectIdentityDictionary({<_ObjectIdentityWrapper wrapping 32>: 1, <_ObjectIdentityWrapper wrapping <function linear at 0x7f0e5020b7a0>>: 1, <_ObjectIdentityWrapper wrapping True>: 3, <_ObjectIdentityWrapper wrapping <keras.initializers.initializers_v2.GlorotUniform object at 0x7f0e44641e50>>: 1, <_ObjectIdentityWrapper wrapping <keras.initializers.initializers_v2.Zeros object at 0x7f0e44641ed0>>: 1, <_ObjectIdentityWrapper wrapping <tf.Variable 'dense_12/kernel:0' shape=(5, 32) dtype=float32, numpy=\n",
              " array([[-0.2515843 , -0.3658079 , -0.13039555,  0.17542708,  0.3511152 ,\n",
              "          0.3409627 ,  0.48452458,  0.04122356,  0.5791689 , -0.10011995,\n",
              "          0.4529156 , -0.24601762, -0.24863249, -0.7410588 ,  0.22903341,\n",
              "          0.1859554 , -0.5735873 , -0.20262444,  0.3241788 , -0.07844149,\n",
              "          0.45898506,  0.12037391, -0.75138074,  0.8676609 ,  0.6834457 ,\n",
              "         -0.14512861,  0.13894062, -0.31299224,  0.27640936, -0.2991239 ,\n",
              "          0.35107747, -0.25045094],\n",
              "        [-0.13205743, -0.3545613 , -0.27997056, -0.09147713,  0.27395818,\n",
              "         -0.10991486, -0.23500852,  0.24900553,  0.7623329 , -0.45979142,\n",
              "         -0.53534615,  0.50916773, -0.19824623, -0.02577684,  0.23644213,\n",
              "          0.20249026,  0.3176409 , -0.23069434, -0.1232704 ,  0.18381794,\n",
              "         -0.06595747,  0.3660368 ,  0.2733873 ,  0.26533854, -0.43855146,\n",
              "          0.19147395,  0.1912808 , -0.19309792,  0.16228297, -0.25253716,\n",
              "          0.14861976,  0.14498965],\n",
              "        [ 0.35269535, -0.28427458, -0.0255362 , -0.10380293,  0.5034856 ,\n",
              "          0.0119536 , -0.323901  ,  0.18761116, -0.24400802,  0.05272606,\n",
              "         -0.07891173,  0.40578172, -0.17036706,  0.5005768 ,  0.85226715,\n",
              "         -0.17450474,  0.19353302, -0.22990364, -0.08262984, -0.03705119,\n",
              "          0.04045976, -0.0615623 , -0.25884765, -0.3738695 ,  0.15050219,\n",
              "         -0.24130201, -0.11699936, -0.13355675,  0.34623265, -0.02494861,\n",
              "          0.0231694 ,  0.39678815],\n",
              "        [-0.48174033, -0.26773998, -0.39202175,  0.37831143,  0.39016837,\n",
              "         -0.04710647, -0.25215197, -0.45696482, -0.37930328, -0.3062959 ,\n",
              "          0.17152819,  0.30875245,  0.01076756,  0.45395067,  0.68862957,\n",
              "          0.31315362, -0.3711039 , -0.10888247, -0.37067437,  0.18048385,\n",
              "         -0.08275019, -0.2066389 ,  0.09124971, -0.09508597,  0.28925115,\n",
              "          0.22378571, -0.08141565,  0.692881  , -0.47211963, -0.25360596,\n",
              "         -0.26431212,  0.11977949],\n",
              "        [ 0.3323103 , -0.21963863,  0.01025438, -0.63705397, -0.41974372,\n",
              "         -0.38757765,  0.11361697, -0.32408786,  0.8552207 ,  0.40627065,\n",
              "          0.5016476 , -0.56390804, -0.07942586,  0.22920007, -0.28512836,\n",
              "          0.42561895,  0.5975602 , -0.32395646, -0.46592146,  0.37844366,\n",
              "          0.07083374, -0.09015048,  0.31716958,  0.30720064,  0.20782234,\n",
              "         -0.3777414 ,  0.1513737 , -0.7767643 ,  0.47602075, -0.18581897,\n",
              "         -0.4043259 ,  0.13642284]], dtype=float32)>>: 1, <_ObjectIdentityWrapper wrapping <tf.Variable 'dense_12/bias:0' shape=(32,) dtype=float32, numpy=\n",
              " array([ 0.15694922, -0.00558833, -0.00432801, -0.02174247,  0.01886296,\n",
              "         0.40600377,  0.15751666,  0.03172052, -0.3039157 , -0.00845348,\n",
              "        -0.07183874, -0.23536594,  0.0475708 , -0.45957297, -0.10078684,\n",
              "        -0.26489753, -0.0009036 ,  0.02305258,  0.01939365, -0.15014346,\n",
              "        -0.05350817,  0.00315313,  0.20221764,  0.01670056,  0.15037417,\n",
              "        -0.02294889,  0.05271656,  0.19880821,  0.07890294, -0.02642863,\n",
              "         0.05271435, -0.21738915], dtype=float32)>>: 1}),\n",
              " '_outbound_nodes_value': [<keras.engine.node.Node at 0x7f0e447ea110>],\n",
              " '_outer_name_scope': '',\n",
              " '_preserve_input_structure_in_config': False,\n",
              " '_saved_model_arg_spec': ([TensorSpec(shape=(None, 5), dtype=tf.float32, name=None)],\n",
              "  {}),\n",
              " '_saved_model_inputs_spec': TensorSpec(shape=(None, 5), dtype=tf.float32, name=None),\n",
              " '_self_name_based_restores': set(),\n",
              " '_self_saveable_object_factories': {},\n",
              " '_self_setattr_tracking': True,\n",
              " '_self_tracked_trackables': [],\n",
              " '_self_unconditional_checkpoint_dependencies': [TrackableReference(name=kernel, ref=<tf.Variable 'dense_12/kernel:0' shape=(5, 32) dtype=float32, numpy=\n",
              "  array([[-0.2515843 , -0.3658079 , -0.13039555,  0.17542708,  0.3511152 ,\n",
              "           0.3409627 ,  0.48452458,  0.04122356,  0.5791689 , -0.10011995,\n",
              "           0.4529156 , -0.24601762, -0.24863249, -0.7410588 ,  0.22903341,\n",
              "           0.1859554 , -0.5735873 , -0.20262444,  0.3241788 , -0.07844149,\n",
              "           0.45898506,  0.12037391, -0.75138074,  0.8676609 ,  0.6834457 ,\n",
              "          -0.14512861,  0.13894062, -0.31299224,  0.27640936, -0.2991239 ,\n",
              "           0.35107747, -0.25045094],\n",
              "         [-0.13205743, -0.3545613 , -0.27997056, -0.09147713,  0.27395818,\n",
              "          -0.10991486, -0.23500852,  0.24900553,  0.7623329 , -0.45979142,\n",
              "          -0.53534615,  0.50916773, -0.19824623, -0.02577684,  0.23644213,\n",
              "           0.20249026,  0.3176409 , -0.23069434, -0.1232704 ,  0.18381794,\n",
              "          -0.06595747,  0.3660368 ,  0.2733873 ,  0.26533854, -0.43855146,\n",
              "           0.19147395,  0.1912808 , -0.19309792,  0.16228297, -0.25253716,\n",
              "           0.14861976,  0.14498965],\n",
              "         [ 0.35269535, -0.28427458, -0.0255362 , -0.10380293,  0.5034856 ,\n",
              "           0.0119536 , -0.323901  ,  0.18761116, -0.24400802,  0.05272606,\n",
              "          -0.07891173,  0.40578172, -0.17036706,  0.5005768 ,  0.85226715,\n",
              "          -0.17450474,  0.19353302, -0.22990364, -0.08262984, -0.03705119,\n",
              "           0.04045976, -0.0615623 , -0.25884765, -0.3738695 ,  0.15050219,\n",
              "          -0.24130201, -0.11699936, -0.13355675,  0.34623265, -0.02494861,\n",
              "           0.0231694 ,  0.39678815],\n",
              "         [-0.48174033, -0.26773998, -0.39202175,  0.37831143,  0.39016837,\n",
              "          -0.04710647, -0.25215197, -0.45696482, -0.37930328, -0.3062959 ,\n",
              "           0.17152819,  0.30875245,  0.01076756,  0.45395067,  0.68862957,\n",
              "           0.31315362, -0.3711039 , -0.10888247, -0.37067437,  0.18048385,\n",
              "          -0.08275019, -0.2066389 ,  0.09124971, -0.09508597,  0.28925115,\n",
              "           0.22378571, -0.08141565,  0.692881  , -0.47211963, -0.25360596,\n",
              "          -0.26431212,  0.11977949],\n",
              "         [ 0.3323103 , -0.21963863,  0.01025438, -0.63705397, -0.41974372,\n",
              "          -0.38757765,  0.11361697, -0.32408786,  0.8552207 ,  0.40627065,\n",
              "           0.5016476 , -0.56390804, -0.07942586,  0.22920007, -0.28512836,\n",
              "           0.42561895,  0.5975602 , -0.32395646, -0.46592146,  0.37844366,\n",
              "           0.07083374, -0.09015048,  0.31716958,  0.30720064,  0.20782234,\n",
              "          -0.3777414 ,  0.1513737 , -0.7767643 ,  0.47602075, -0.18581897,\n",
              "          -0.4043259 ,  0.13642284]], dtype=float32)>),\n",
              "  TrackableReference(name=bias, ref=<tf.Variable 'dense_12/bias:0' shape=(32,) dtype=float32, numpy=\n",
              "  array([ 0.15694922, -0.00558833, -0.00432801, -0.02174247,  0.01886296,\n",
              "          0.40600377,  0.15751666,  0.03172052, -0.3039157 , -0.00845348,\n",
              "         -0.07183874, -0.23536594,  0.0475708 , -0.45957297, -0.10078684,\n",
              "         -0.26489753, -0.0009036 ,  0.02305258,  0.01939365, -0.15014346,\n",
              "         -0.05350817,  0.00315313,  0.20221764,  0.01670056,  0.15037417,\n",
              "         -0.02294889,  0.05271656,  0.19880821,  0.07890294, -0.02642863,\n",
              "          0.05271435, -0.21738915], dtype=float32)>)],\n",
              " '_self_unconditional_deferred_dependencies': {},\n",
              " '_self_unconditional_dependency_names': {'bias': <tf.Variable 'dense_12/bias:0' shape=(32,) dtype=float32, numpy=\n",
              "  array([ 0.15694922, -0.00558833, -0.00432801, -0.02174247,  0.01886296,\n",
              "          0.40600377,  0.15751666,  0.03172052, -0.3039157 , -0.00845348,\n",
              "         -0.07183874, -0.23536594,  0.0475708 , -0.45957297, -0.10078684,\n",
              "         -0.26489753, -0.0009036 ,  0.02305258,  0.01939365, -0.15014346,\n",
              "         -0.05350817,  0.00315313,  0.20221764,  0.01670056,  0.15037417,\n",
              "         -0.02294889,  0.05271656,  0.19880821,  0.07890294, -0.02642863,\n",
              "          0.05271435, -0.21738915], dtype=float32)>,\n",
              "  'kernel': <tf.Variable 'dense_12/kernel:0' shape=(5, 32) dtype=float32, numpy=\n",
              "  array([[-0.2515843 , -0.3658079 , -0.13039555,  0.17542708,  0.3511152 ,\n",
              "           0.3409627 ,  0.48452458,  0.04122356,  0.5791689 , -0.10011995,\n",
              "           0.4529156 , -0.24601762, -0.24863249, -0.7410588 ,  0.22903341,\n",
              "           0.1859554 , -0.5735873 , -0.20262444,  0.3241788 , -0.07844149,\n",
              "           0.45898506,  0.12037391, -0.75138074,  0.8676609 ,  0.6834457 ,\n",
              "          -0.14512861,  0.13894062, -0.31299224,  0.27640936, -0.2991239 ,\n",
              "           0.35107747, -0.25045094],\n",
              "         [-0.13205743, -0.3545613 , -0.27997056, -0.09147713,  0.27395818,\n",
              "          -0.10991486, -0.23500852,  0.24900553,  0.7623329 , -0.45979142,\n",
              "          -0.53534615,  0.50916773, -0.19824623, -0.02577684,  0.23644213,\n",
              "           0.20249026,  0.3176409 , -0.23069434, -0.1232704 ,  0.18381794,\n",
              "          -0.06595747,  0.3660368 ,  0.2733873 ,  0.26533854, -0.43855146,\n",
              "           0.19147395,  0.1912808 , -0.19309792,  0.16228297, -0.25253716,\n",
              "           0.14861976,  0.14498965],\n",
              "         [ 0.35269535, -0.28427458, -0.0255362 , -0.10380293,  0.5034856 ,\n",
              "           0.0119536 , -0.323901  ,  0.18761116, -0.24400802,  0.05272606,\n",
              "          -0.07891173,  0.40578172, -0.17036706,  0.5005768 ,  0.85226715,\n",
              "          -0.17450474,  0.19353302, -0.22990364, -0.08262984, -0.03705119,\n",
              "           0.04045976, -0.0615623 , -0.25884765, -0.3738695 ,  0.15050219,\n",
              "          -0.24130201, -0.11699936, -0.13355675,  0.34623265, -0.02494861,\n",
              "           0.0231694 ,  0.39678815],\n",
              "         [-0.48174033, -0.26773998, -0.39202175,  0.37831143,  0.39016837,\n",
              "          -0.04710647, -0.25215197, -0.45696482, -0.37930328, -0.3062959 ,\n",
              "           0.17152819,  0.30875245,  0.01076756,  0.45395067,  0.68862957,\n",
              "           0.31315362, -0.3711039 , -0.10888247, -0.37067437,  0.18048385,\n",
              "          -0.08275019, -0.2066389 ,  0.09124971, -0.09508597,  0.28925115,\n",
              "           0.22378571, -0.08141565,  0.692881  , -0.47211963, -0.25360596,\n",
              "          -0.26431212,  0.11977949],\n",
              "         [ 0.3323103 , -0.21963863,  0.01025438, -0.63705397, -0.41974372,\n",
              "          -0.38757765,  0.11361697, -0.32408786,  0.8552207 ,  0.40627065,\n",
              "           0.5016476 , -0.56390804, -0.07942586,  0.22920007, -0.28512836,\n",
              "           0.42561895,  0.5975602 , -0.32395646, -0.46592146,  0.37844366,\n",
              "           0.07083374, -0.09015048,  0.31716958,  0.30720064,  0.20782234,\n",
              "          -0.3777414 ,  0.1513737 , -0.7767643 ,  0.47602075, -0.18581897,\n",
              "          -0.4043259 ,  0.13642284]], dtype=float32)>},\n",
              " '_self_update_uid': -1,\n",
              " '_stateful': False,\n",
              " '_supports_masking': True,\n",
              " '_thread_local': <_thread._local at 0x7f0e446654d0>,\n",
              " '_trainable': True,\n",
              " '_trainable_weights': [<tf.Variable 'dense_12/kernel:0' shape=(5, 32) dtype=float32, numpy=\n",
              "  array([[-0.2515843 , -0.3658079 , -0.13039555,  0.17542708,  0.3511152 ,\n",
              "           0.3409627 ,  0.48452458,  0.04122356,  0.5791689 , -0.10011995,\n",
              "           0.4529156 , -0.24601762, -0.24863249, -0.7410588 ,  0.22903341,\n",
              "           0.1859554 , -0.5735873 , -0.20262444,  0.3241788 , -0.07844149,\n",
              "           0.45898506,  0.12037391, -0.75138074,  0.8676609 ,  0.6834457 ,\n",
              "          -0.14512861,  0.13894062, -0.31299224,  0.27640936, -0.2991239 ,\n",
              "           0.35107747, -0.25045094],\n",
              "         [-0.13205743, -0.3545613 , -0.27997056, -0.09147713,  0.27395818,\n",
              "          -0.10991486, -0.23500852,  0.24900553,  0.7623329 , -0.45979142,\n",
              "          -0.53534615,  0.50916773, -0.19824623, -0.02577684,  0.23644213,\n",
              "           0.20249026,  0.3176409 , -0.23069434, -0.1232704 ,  0.18381794,\n",
              "          -0.06595747,  0.3660368 ,  0.2733873 ,  0.26533854, -0.43855146,\n",
              "           0.19147395,  0.1912808 , -0.19309792,  0.16228297, -0.25253716,\n",
              "           0.14861976,  0.14498965],\n",
              "         [ 0.35269535, -0.28427458, -0.0255362 , -0.10380293,  0.5034856 ,\n",
              "           0.0119536 , -0.323901  ,  0.18761116, -0.24400802,  0.05272606,\n",
              "          -0.07891173,  0.40578172, -0.17036706,  0.5005768 ,  0.85226715,\n",
              "          -0.17450474,  0.19353302, -0.22990364, -0.08262984, -0.03705119,\n",
              "           0.04045976, -0.0615623 , -0.25884765, -0.3738695 ,  0.15050219,\n",
              "          -0.24130201, -0.11699936, -0.13355675,  0.34623265, -0.02494861,\n",
              "           0.0231694 ,  0.39678815],\n",
              "         [-0.48174033, -0.26773998, -0.39202175,  0.37831143,  0.39016837,\n",
              "          -0.04710647, -0.25215197, -0.45696482, -0.37930328, -0.3062959 ,\n",
              "           0.17152819,  0.30875245,  0.01076756,  0.45395067,  0.68862957,\n",
              "           0.31315362, -0.3711039 , -0.10888247, -0.37067437,  0.18048385,\n",
              "          -0.08275019, -0.2066389 ,  0.09124971, -0.09508597,  0.28925115,\n",
              "           0.22378571, -0.08141565,  0.692881  , -0.47211963, -0.25360596,\n",
              "          -0.26431212,  0.11977949],\n",
              "         [ 0.3323103 , -0.21963863,  0.01025438, -0.63705397, -0.41974372,\n",
              "          -0.38757765,  0.11361697, -0.32408786,  0.8552207 ,  0.40627065,\n",
              "           0.5016476 , -0.56390804, -0.07942586,  0.22920007, -0.28512836,\n",
              "           0.42561895,  0.5975602 , -0.32395646, -0.46592146,  0.37844366,\n",
              "           0.07083374, -0.09015048,  0.31716958,  0.30720064,  0.20782234,\n",
              "          -0.3777414 ,  0.1513737 , -0.7767643 ,  0.47602075, -0.18581897,\n",
              "          -0.4043259 ,  0.13642284]], dtype=float32)>,\n",
              "  <tf.Variable 'dense_12/bias:0' shape=(32,) dtype=float32, numpy=\n",
              "  array([ 0.15694922, -0.00558833, -0.00432801, -0.02174247,  0.01886296,\n",
              "          0.40600377,  0.15751666,  0.03172052, -0.3039157 , -0.00845348,\n",
              "         -0.07183874, -0.23536594,  0.0475708 , -0.45957297, -0.10078684,\n",
              "         -0.26489753, -0.0009036 ,  0.02305258,  0.01939365, -0.15014346,\n",
              "         -0.05350817,  0.00315313,  0.20221764,  0.01670056,  0.15037417,\n",
              "         -0.02294889,  0.05271656,  0.19880821,  0.07890294, -0.02642863,\n",
              "          0.05271435, -0.21738915], dtype=float32)>],\n",
              " '_updates': [],\n",
              " 'activation': <function keras.activations.linear>,\n",
              " 'bias': <tf.Variable 'dense_12/bias:0' shape=(32,) dtype=float32, numpy=\n",
              " array([ 0.15694922, -0.00558833, -0.00432801, -0.02174247,  0.01886296,\n",
              "         0.40600377,  0.15751666,  0.03172052, -0.3039157 , -0.00845348,\n",
              "        -0.07183874, -0.23536594,  0.0475708 , -0.45957297, -0.10078684,\n",
              "        -0.26489753, -0.0009036 ,  0.02305258,  0.01939365, -0.15014346,\n",
              "        -0.05350817,  0.00315313,  0.20221764,  0.01670056,  0.15037417,\n",
              "        -0.02294889,  0.05271656,  0.19880821,  0.07890294, -0.02642863,\n",
              "         0.05271435, -0.21738915], dtype=float32)>,\n",
              " 'bias_constraint': None,\n",
              " 'bias_initializer': <keras.initializers.initializers_v2.Zeros at 0x7f0e44641ed0>,\n",
              " 'bias_regularizer': None,\n",
              " 'built': True,\n",
              " 'kernel': <tf.Variable 'dense_12/kernel:0' shape=(5, 32) dtype=float32, numpy=\n",
              " array([[-0.2515843 , -0.3658079 , -0.13039555,  0.17542708,  0.3511152 ,\n",
              "          0.3409627 ,  0.48452458,  0.04122356,  0.5791689 , -0.10011995,\n",
              "          0.4529156 , -0.24601762, -0.24863249, -0.7410588 ,  0.22903341,\n",
              "          0.1859554 , -0.5735873 , -0.20262444,  0.3241788 , -0.07844149,\n",
              "          0.45898506,  0.12037391, -0.75138074,  0.8676609 ,  0.6834457 ,\n",
              "         -0.14512861,  0.13894062, -0.31299224,  0.27640936, -0.2991239 ,\n",
              "          0.35107747, -0.25045094],\n",
              "        [-0.13205743, -0.3545613 , -0.27997056, -0.09147713,  0.27395818,\n",
              "         -0.10991486, -0.23500852,  0.24900553,  0.7623329 , -0.45979142,\n",
              "         -0.53534615,  0.50916773, -0.19824623, -0.02577684,  0.23644213,\n",
              "          0.20249026,  0.3176409 , -0.23069434, -0.1232704 ,  0.18381794,\n",
              "         -0.06595747,  0.3660368 ,  0.2733873 ,  0.26533854, -0.43855146,\n",
              "          0.19147395,  0.1912808 , -0.19309792,  0.16228297, -0.25253716,\n",
              "          0.14861976,  0.14498965],\n",
              "        [ 0.35269535, -0.28427458, -0.0255362 , -0.10380293,  0.5034856 ,\n",
              "          0.0119536 , -0.323901  ,  0.18761116, -0.24400802,  0.05272606,\n",
              "         -0.07891173,  0.40578172, -0.17036706,  0.5005768 ,  0.85226715,\n",
              "         -0.17450474,  0.19353302, -0.22990364, -0.08262984, -0.03705119,\n",
              "          0.04045976, -0.0615623 , -0.25884765, -0.3738695 ,  0.15050219,\n",
              "         -0.24130201, -0.11699936, -0.13355675,  0.34623265, -0.02494861,\n",
              "          0.0231694 ,  0.39678815],\n",
              "        [-0.48174033, -0.26773998, -0.39202175,  0.37831143,  0.39016837,\n",
              "         -0.04710647, -0.25215197, -0.45696482, -0.37930328, -0.3062959 ,\n",
              "          0.17152819,  0.30875245,  0.01076756,  0.45395067,  0.68862957,\n",
              "          0.31315362, -0.3711039 , -0.10888247, -0.37067437,  0.18048385,\n",
              "         -0.08275019, -0.2066389 ,  0.09124971, -0.09508597,  0.28925115,\n",
              "          0.22378571, -0.08141565,  0.692881  , -0.47211963, -0.25360596,\n",
              "         -0.26431212,  0.11977949],\n",
              "        [ 0.3323103 , -0.21963863,  0.01025438, -0.63705397, -0.41974372,\n",
              "         -0.38757765,  0.11361697, -0.32408786,  0.8552207 ,  0.40627065,\n",
              "          0.5016476 , -0.56390804, -0.07942586,  0.22920007, -0.28512836,\n",
              "          0.42561895,  0.5975602 , -0.32395646, -0.46592146,  0.37844366,\n",
              "          0.07083374, -0.09015048,  0.31716958,  0.30720064,  0.20782234,\n",
              "         -0.3777414 ,  0.1513737 , -0.7767643 ,  0.47602075, -0.18581897,\n",
              "         -0.4043259 ,  0.13642284]], dtype=float32)>,\n",
              " 'kernel_constraint': None,\n",
              " 'kernel_initializer': <keras.initializers.initializers_v2.GlorotUniform at 0x7f0e44641e50>,\n",
              " 'kernel_regularizer': None,\n",
              " 'units': 32,\n",
              " 'use_bias': True}"
            ]
          },
          "metadata": {},
          "execution_count": 34
        }
      ]
    },
    {
      "cell_type": "markdown",
      "source": [
        "# Exemple 2: Image classification"
      ],
      "metadata": {
        "id": "Aja1y-ibbkD0"
      }
    },
    {
      "cell_type": "markdown",
      "source": [
        "## Data loading"
      ],
      "metadata": {
        "id": "nzVXyUGvrJDp"
      }
    },
    {
      "cell_type": "code",
      "source": [
        "from tensorflow.keras.datasets import mnist\n",
        "(x_train, y_train), (x_test, y_test) = mnist.load_data()\n",
        "print(x_train.shape)\n",
        "print(y_train.shape)"
      ],
      "metadata": {
        "colab": {
          "base_uri": "https://localhost:8080/"
        },
        "id": "R_DKtJ2EZPkA",
        "outputId": "66484858-ddc2-4377-ed59-b91711764e52"
      },
      "execution_count": null,
      "outputs": [
        {
          "output_type": "stream",
          "name": "stdout",
          "text": [
            "Downloading data from https://storage.googleapis.com/tensorflow/tf-keras-datasets/mnist.npz\n",
            "11493376/11490434 [==============================] - 0s 0us/step\n",
            "11501568/11490434 [==============================] - 0s 0us/step\n",
            "(60000, 28, 28)\n",
            "(60000,)\n"
          ]
        }
      ]
    },
    {
      "cell_type": "markdown",
      "source": [
        "## Data preparation"
      ],
      "metadata": {
        "id": "qmHyk1ndrLO3"
      }
    },
    {
      "cell_type": "code",
      "source": [
        "import numpy as np\n",
        "x_train = np.reshape(x_train, (x_train.shape[0], x_train.shape[1], x_train.shape[2], 1), order='C')\n",
        "x_train = x_train.astype('float32')\n",
        "x_train /= 255\n",
        "\n",
        "x_test = np.reshape(x_test, (x_test.shape[0], x_test.shape[1], x_test.shape[2], 1), order='C')\n",
        "x_test = x_test.astype('float32')\n",
        "x_test /= 255\n"
      ],
      "metadata": {
        "id": "JpqMyBh-ZhyN"
      },
      "execution_count": null,
      "outputs": []
    },
    {
      "cell_type": "markdown",
      "source": [
        "In the case of ConvNet, the shape of the input data is (m, h, w) where m is the number of examples,n h and w the height and width of the image. "
      ],
      "metadata": {
        "id": "tjQsIGJNkGUM"
      }
    },
    {
      "cell_type": "code",
      "source": [
        "x_train.shape"
      ],
      "metadata": {
        "colab": {
          "base_uri": "https://localhost:8080/"
        },
        "id": "M1wg_WQkkC5L",
        "outputId": "3bf3cc38-c1b8-429e-9dcc-4b989f2d02ef"
      },
      "execution_count": null,
      "outputs": [
        {
          "output_type": "execute_result",
          "data": {
            "text/plain": [
              "(60000, 28, 28, 1)"
            ]
          },
          "metadata": {},
          "execution_count": 6
        }
      ]
    },
    {
      "cell_type": "code",
      "source": [
        "from tensorflow.keras.utils import to_categorical\n",
        "y_train_oh = to_categorical(y_train)\n",
        "y_test_oh = to_categorical(y_test)\n",
        "\n",
        "print(y_train[:3])\n",
        "print(y_train_oh[:3])"
      ],
      "metadata": {
        "colab": {
          "base_uri": "https://localhost:8080/"
        },
        "id": "IDd2DNEoadhF",
        "outputId": "ff35ce94-edee-4c59-9324-34da7096df3e"
      },
      "execution_count": null,
      "outputs": [
        {
          "output_type": "stream",
          "name": "stdout",
          "text": [
            "[5 0 4]\n",
            "[[0. 0. 0. 0. 0. 1. 0. 0. 0. 0.]\n",
            " [1. 0. 0. 0. 0. 0. 0. 0. 0. 0.]\n",
            " [0. 0. 0. 0. 1. 0. 0. 0. 0. 0.]]\n"
          ]
        }
      ]
    },
    {
      "cell_type": "markdown",
      "source": [
        "## Model definition\n",
        "\n",
        "<img src=\"https://docs.google.com/uc?export=download&id=1vm6lxmUnk1jlTSxvKqc6fpvkKKvxXt0g\" width=700>\n"
      ],
      "metadata": {
        "id": "YR_yJz5vrO_z"
      }
    },
    {
      "cell_type": "code",
      "source": [
        "from tensorflow.keras.models import Sequential\n",
        "from tensorflow.keras.layers import Dense, Activation, Conv2D, MaxPooling2D, Flatten\n",
        "\n",
        "n_h1 = 6\n",
        "n_h2 = 6\n",
        "n_out = 10\n",
        "\n",
        "m, w, h, c = x_train.shape\n",
        "model = Sequential() \n",
        "model.add(Conv2D(filters=n_h1, kernel_size=(5,5), input_shape=(w,h,c), padding='valid', data_format='channels_last'))\n",
        "model.add(Activation('ReLU')) \n",
        "model.add(MaxPooling2D(pool_size=2))\n",
        "model.add(Conv2D(filters=n_h2, kernel_size=(5,5), padding='valid'))\n",
        "model.add(Activation('ReLU')) \n",
        "model.add(MaxPooling2D(pool_size=2))\n",
        "model.add(Flatten())\n",
        "model.add(Dense(n_out))\n",
        "model.add(Activation('softmax'))"
      ],
      "metadata": {
        "id": "BVInpuyJa8n-"
      },
      "execution_count": null,
      "outputs": []
    },
    {
      "cell_type": "code",
      "source": [
        "model.summary()"
      ],
      "metadata": {
        "colab": {
          "base_uri": "https://localhost:8080/"
        },
        "id": "D7oJHWSRbbW_",
        "outputId": "e3ec19c8-5006-4058-f3d9-a007c9eba00c"
      },
      "execution_count": null,
      "outputs": [
        {
          "output_type": "stream",
          "name": "stdout",
          "text": [
            "Model: \"sequential\"\n",
            "_________________________________________________________________\n",
            " Layer (type)                Output Shape              Param #   \n",
            "=================================================================\n",
            " conv2d (Conv2D)             (None, 24, 24, 6)         156       \n",
            "                                                                 \n",
            " activation (Activation)     (None, 24, 24, 6)         0         \n",
            "                                                                 \n",
            " max_pooling2d (MaxPooling2D  (None, 12, 12, 6)        0         \n",
            " )                                                               \n",
            "                                                                 \n",
            " conv2d_1 (Conv2D)           (None, 8, 8, 6)           906       \n",
            "                                                                 \n",
            " activation_1 (Activation)   (None, 8, 8, 6)           0         \n",
            "                                                                 \n",
            " max_pooling2d_1 (MaxPooling  (None, 4, 4, 6)          0         \n",
            " 2D)                                                             \n",
            "                                                                 \n",
            " flatten (Flatten)           (None, 96)                0         \n",
            "                                                                 \n",
            " dense (Dense)               (None, 10)                970       \n",
            "                                                                 \n",
            " activation_2 (Activation)   (None, 10)                0         \n",
            "                                                                 \n",
            "=================================================================\n",
            "Total params: 2,032\n",
            "Trainable params: 2,032\n",
            "Non-trainable params: 0\n",
            "_________________________________________________________________\n"
          ]
        }
      ]
    },
    {
      "cell_type": "markdown",
      "source": [
        "## Model compilation"
      ],
      "metadata": {
        "id": "XFxd8U_VrUpf"
      }
    },
    {
      "cell_type": "code",
      "source": [
        "opt = keras.optimizers.Adam(learning_rate=0.01)\n",
        "model.compile(optimizer=opt, loss='categorical_crossentropy', metrics='acc')\n"
      ],
      "metadata": {
        "id": "Iv9N7GMxrT0N"
      },
      "execution_count": null,
      "outputs": []
    },
    {
      "cell_type": "markdown",
      "source": [
        "## Model fitting (training)"
      ],
      "metadata": {
        "id": "ql9IhIlMrXaA"
      }
    },
    {
      "cell_type": "code",
      "source": [
        "history = model.fit(x=x_train, y=y_train_oh, \n",
        "                    validation_data=(x_test, y_test_oh), \n",
        "                    epochs=100, \n",
        "                    batch_size=32, \n",
        "                    shuffle=True,\n",
        "                    verbose=2)"
      ],
      "metadata": {
        "colab": {
          "base_uri": "https://localhost:8080/",
          "height": 659
        },
        "id": "Y848i_652eLh",
        "outputId": "7ab03ab9-5ac5-46c0-cb21-7deec10dd66e"
      },
      "execution_count": null,
      "outputs": [
        {
          "output_type": "stream",
          "name": "stdout",
          "text": [
            "Epoch 1/100\n",
            "1875/1875 - 17s - loss: 0.1774 - acc: 0.9446 - val_loss: 0.0900 - val_acc: 0.9722 - 17s/epoch - 9ms/step\n",
            "Epoch 2/100\n",
            "1875/1875 - 5s - loss: 0.1060 - acc: 0.9690 - val_loss: 0.0889 - val_acc: 0.9735 - 5s/epoch - 2ms/step\n",
            "Epoch 3/100\n",
            "1875/1875 - 5s - loss: 0.0994 - acc: 0.9708 - val_loss: 0.0866 - val_acc: 0.9771 - 5s/epoch - 3ms/step\n",
            "Epoch 4/100\n",
            "1875/1875 - 5s - loss: 0.0942 - acc: 0.9725 - val_loss: 0.0832 - val_acc: 0.9788 - 5s/epoch - 2ms/step\n",
            "Epoch 5/100\n",
            "1875/1875 - 5s - loss: 0.0926 - acc: 0.9740 - val_loss: 0.1014 - val_acc: 0.9694 - 5s/epoch - 3ms/step\n",
            "Epoch 6/100\n",
            "1875/1875 - 5s - loss: 0.0914 - acc: 0.9734 - val_loss: 0.0946 - val_acc: 0.9734 - 5s/epoch - 2ms/step\n",
            "Epoch 7/100\n",
            "1875/1875 - 5s - loss: 0.0904 - acc: 0.9743 - val_loss: 0.0862 - val_acc: 0.9749 - 5s/epoch - 3ms/step\n",
            "Epoch 8/100\n",
            "1875/1875 - 5s - loss: 0.0879 - acc: 0.9746 - val_loss: 0.0865 - val_acc: 0.9751 - 5s/epoch - 3ms/step\n",
            "Epoch 9/100\n"
          ]
        },
        {
          "output_type": "error",
          "ename": "KeyboardInterrupt",
          "evalue": "ignored",
          "traceback": [
            "\u001b[0;31m---------------------------------------------------------------------------\u001b[0m",
            "\u001b[0;31mKeyboardInterrupt\u001b[0m                         Traceback (most recent call last)",
            "\u001b[0;32m<ipython-input-9-a00ed8eed056>\u001b[0m in \u001b[0;36m<module>\u001b[0;34m()\u001b[0m\n\u001b[1;32m      4\u001b[0m                     \u001b[0mbatch_size\u001b[0m\u001b[0;34m=\u001b[0m\u001b[0;36m32\u001b[0m\u001b[0;34m,\u001b[0m\u001b[0;34m\u001b[0m\u001b[0;34m\u001b[0m\u001b[0m\n\u001b[1;32m      5\u001b[0m                     \u001b[0mshuffle\u001b[0m\u001b[0;34m=\u001b[0m\u001b[0;32mTrue\u001b[0m\u001b[0;34m,\u001b[0m\u001b[0;34m\u001b[0m\u001b[0;34m\u001b[0m\u001b[0m\n\u001b[0;32m----> 6\u001b[0;31m                     verbose=2)\n\u001b[0m",
            "\u001b[0;32m/usr/local/lib/python3.7/dist-packages/keras/utils/traceback_utils.py\u001b[0m in \u001b[0;36merror_handler\u001b[0;34m(*args, **kwargs)\u001b[0m\n\u001b[1;32m     62\u001b[0m     \u001b[0mfiltered_tb\u001b[0m \u001b[0;34m=\u001b[0m \u001b[0;32mNone\u001b[0m\u001b[0;34m\u001b[0m\u001b[0;34m\u001b[0m\u001b[0m\n\u001b[1;32m     63\u001b[0m     \u001b[0;32mtry\u001b[0m\u001b[0;34m:\u001b[0m\u001b[0;34m\u001b[0m\u001b[0;34m\u001b[0m\u001b[0m\n\u001b[0;32m---> 64\u001b[0;31m       \u001b[0;32mreturn\u001b[0m \u001b[0mfn\u001b[0m\u001b[0;34m(\u001b[0m\u001b[0;34m*\u001b[0m\u001b[0margs\u001b[0m\u001b[0;34m,\u001b[0m \u001b[0;34m**\u001b[0m\u001b[0mkwargs\u001b[0m\u001b[0;34m)\u001b[0m\u001b[0;34m\u001b[0m\u001b[0;34m\u001b[0m\u001b[0m\n\u001b[0m\u001b[1;32m     65\u001b[0m     \u001b[0;32mexcept\u001b[0m \u001b[0mException\u001b[0m \u001b[0;32mas\u001b[0m \u001b[0me\u001b[0m\u001b[0;34m:\u001b[0m  \u001b[0;31m# pylint: disable=broad-except\u001b[0m\u001b[0;34m\u001b[0m\u001b[0;34m\u001b[0m\u001b[0m\n\u001b[1;32m     66\u001b[0m       \u001b[0mfiltered_tb\u001b[0m \u001b[0;34m=\u001b[0m \u001b[0m_process_traceback_frames\u001b[0m\u001b[0;34m(\u001b[0m\u001b[0me\u001b[0m\u001b[0;34m.\u001b[0m\u001b[0m__traceback__\u001b[0m\u001b[0;34m)\u001b[0m\u001b[0;34m\u001b[0m\u001b[0;34m\u001b[0m\u001b[0m\n",
            "\u001b[0;32m/usr/local/lib/python3.7/dist-packages/keras/engine/training.py\u001b[0m in \u001b[0;36mfit\u001b[0;34m(self, x, y, batch_size, epochs, verbose, callbacks, validation_split, validation_data, shuffle, class_weight, sample_weight, initial_epoch, steps_per_epoch, validation_steps, validation_batch_size, validation_freq, max_queue_size, workers, use_multiprocessing)\u001b[0m\n\u001b[1;32m   1429\u001b[0m               \u001b[0muse_multiprocessing\u001b[0m\u001b[0;34m=\u001b[0m\u001b[0muse_multiprocessing\u001b[0m\u001b[0;34m,\u001b[0m\u001b[0;34m\u001b[0m\u001b[0;34m\u001b[0m\u001b[0m\n\u001b[1;32m   1430\u001b[0m               \u001b[0mreturn_dict\u001b[0m\u001b[0;34m=\u001b[0m\u001b[0;32mTrue\u001b[0m\u001b[0;34m,\u001b[0m\u001b[0;34m\u001b[0m\u001b[0;34m\u001b[0m\u001b[0m\n\u001b[0;32m-> 1431\u001b[0;31m               _use_cached_eval_dataset=True)\n\u001b[0m\u001b[1;32m   1432\u001b[0m           \u001b[0mval_logs\u001b[0m \u001b[0;34m=\u001b[0m \u001b[0;34m{\u001b[0m\u001b[0;34m'val_'\u001b[0m \u001b[0;34m+\u001b[0m \u001b[0mname\u001b[0m\u001b[0;34m:\u001b[0m \u001b[0mval\u001b[0m \u001b[0;32mfor\u001b[0m \u001b[0mname\u001b[0m\u001b[0;34m,\u001b[0m \u001b[0mval\u001b[0m \u001b[0;32min\u001b[0m \u001b[0mval_logs\u001b[0m\u001b[0;34m.\u001b[0m\u001b[0mitems\u001b[0m\u001b[0;34m(\u001b[0m\u001b[0;34m)\u001b[0m\u001b[0;34m}\u001b[0m\u001b[0;34m\u001b[0m\u001b[0;34m\u001b[0m\u001b[0m\n\u001b[1;32m   1433\u001b[0m           \u001b[0mepoch_logs\u001b[0m\u001b[0;34m.\u001b[0m\u001b[0mupdate\u001b[0m\u001b[0;34m(\u001b[0m\u001b[0mval_logs\u001b[0m\u001b[0;34m)\u001b[0m\u001b[0;34m\u001b[0m\u001b[0;34m\u001b[0m\u001b[0m\n",
            "\u001b[0;32m/usr/local/lib/python3.7/dist-packages/keras/utils/traceback_utils.py\u001b[0m in \u001b[0;36merror_handler\u001b[0;34m(*args, **kwargs)\u001b[0m\n\u001b[1;32m     62\u001b[0m     \u001b[0mfiltered_tb\u001b[0m \u001b[0;34m=\u001b[0m \u001b[0;32mNone\u001b[0m\u001b[0;34m\u001b[0m\u001b[0;34m\u001b[0m\u001b[0m\n\u001b[1;32m     63\u001b[0m     \u001b[0;32mtry\u001b[0m\u001b[0;34m:\u001b[0m\u001b[0;34m\u001b[0m\u001b[0;34m\u001b[0m\u001b[0m\n\u001b[0;32m---> 64\u001b[0;31m       \u001b[0;32mreturn\u001b[0m \u001b[0mfn\u001b[0m\u001b[0;34m(\u001b[0m\u001b[0;34m*\u001b[0m\u001b[0margs\u001b[0m\u001b[0;34m,\u001b[0m \u001b[0;34m**\u001b[0m\u001b[0mkwargs\u001b[0m\u001b[0;34m)\u001b[0m\u001b[0;34m\u001b[0m\u001b[0;34m\u001b[0m\u001b[0m\n\u001b[0m\u001b[1;32m     65\u001b[0m     \u001b[0;32mexcept\u001b[0m \u001b[0mException\u001b[0m \u001b[0;32mas\u001b[0m \u001b[0me\u001b[0m\u001b[0;34m:\u001b[0m  \u001b[0;31m# pylint: disable=broad-except\u001b[0m\u001b[0;34m\u001b[0m\u001b[0;34m\u001b[0m\u001b[0m\n\u001b[1;32m     66\u001b[0m       \u001b[0mfiltered_tb\u001b[0m \u001b[0;34m=\u001b[0m \u001b[0m_process_traceback_frames\u001b[0m\u001b[0;34m(\u001b[0m\u001b[0me\u001b[0m\u001b[0;34m.\u001b[0m\u001b[0m__traceback__\u001b[0m\u001b[0;34m)\u001b[0m\u001b[0;34m\u001b[0m\u001b[0;34m\u001b[0m\u001b[0m\n",
            "\u001b[0;32m/usr/local/lib/python3.7/dist-packages/keras/engine/training.py\u001b[0m in \u001b[0;36mevaluate\u001b[0;34m(self, x, y, batch_size, verbose, sample_weight, steps, callbacks, max_queue_size, workers, use_multiprocessing, return_dict, **kwargs)\u001b[0m\n\u001b[1;32m   1714\u001b[0m             \u001b[0;32mwith\u001b[0m \u001b[0mtf\u001b[0m\u001b[0;34m.\u001b[0m\u001b[0mprofiler\u001b[0m\u001b[0;34m.\u001b[0m\u001b[0mexperimental\u001b[0m\u001b[0;34m.\u001b[0m\u001b[0mTrace\u001b[0m\u001b[0;34m(\u001b[0m\u001b[0;34m'test'\u001b[0m\u001b[0;34m,\u001b[0m \u001b[0mstep_num\u001b[0m\u001b[0;34m=\u001b[0m\u001b[0mstep\u001b[0m\u001b[0;34m,\u001b[0m \u001b[0m_r\u001b[0m\u001b[0;34m=\u001b[0m\u001b[0;36m1\u001b[0m\u001b[0;34m)\u001b[0m\u001b[0;34m:\u001b[0m\u001b[0;34m\u001b[0m\u001b[0;34m\u001b[0m\u001b[0m\n\u001b[1;32m   1715\u001b[0m               \u001b[0mcallbacks\u001b[0m\u001b[0;34m.\u001b[0m\u001b[0mon_test_batch_begin\u001b[0m\u001b[0;34m(\u001b[0m\u001b[0mstep\u001b[0m\u001b[0;34m)\u001b[0m\u001b[0;34m\u001b[0m\u001b[0;34m\u001b[0m\u001b[0m\n\u001b[0;32m-> 1716\u001b[0;31m               \u001b[0mtmp_logs\u001b[0m \u001b[0;34m=\u001b[0m \u001b[0mself\u001b[0m\u001b[0;34m.\u001b[0m\u001b[0mtest_function\u001b[0m\u001b[0;34m(\u001b[0m\u001b[0miterator\u001b[0m\u001b[0;34m)\u001b[0m\u001b[0;34m\u001b[0m\u001b[0;34m\u001b[0m\u001b[0m\n\u001b[0m\u001b[1;32m   1717\u001b[0m               \u001b[0;32mif\u001b[0m \u001b[0mdata_handler\u001b[0m\u001b[0;34m.\u001b[0m\u001b[0mshould_sync\u001b[0m\u001b[0;34m:\u001b[0m\u001b[0;34m\u001b[0m\u001b[0;34m\u001b[0m\u001b[0m\n\u001b[1;32m   1718\u001b[0m                 \u001b[0mcontext\u001b[0m\u001b[0;34m.\u001b[0m\u001b[0masync_wait\u001b[0m\u001b[0;34m(\u001b[0m\u001b[0;34m)\u001b[0m\u001b[0;34m\u001b[0m\u001b[0;34m\u001b[0m\u001b[0m\n",
            "\u001b[0;32m/usr/local/lib/python3.7/dist-packages/tensorflow/python/util/traceback_utils.py\u001b[0m in \u001b[0;36merror_handler\u001b[0;34m(*args, **kwargs)\u001b[0m\n\u001b[1;32m    148\u001b[0m     \u001b[0mfiltered_tb\u001b[0m \u001b[0;34m=\u001b[0m \u001b[0;32mNone\u001b[0m\u001b[0;34m\u001b[0m\u001b[0;34m\u001b[0m\u001b[0m\n\u001b[1;32m    149\u001b[0m     \u001b[0;32mtry\u001b[0m\u001b[0;34m:\u001b[0m\u001b[0;34m\u001b[0m\u001b[0;34m\u001b[0m\u001b[0m\n\u001b[0;32m--> 150\u001b[0;31m       \u001b[0;32mreturn\u001b[0m \u001b[0mfn\u001b[0m\u001b[0;34m(\u001b[0m\u001b[0;34m*\u001b[0m\u001b[0margs\u001b[0m\u001b[0;34m,\u001b[0m \u001b[0;34m**\u001b[0m\u001b[0mkwargs\u001b[0m\u001b[0;34m)\u001b[0m\u001b[0;34m\u001b[0m\u001b[0;34m\u001b[0m\u001b[0m\n\u001b[0m\u001b[1;32m    151\u001b[0m     \u001b[0;32mexcept\u001b[0m \u001b[0mException\u001b[0m \u001b[0;32mas\u001b[0m \u001b[0me\u001b[0m\u001b[0;34m:\u001b[0m\u001b[0;34m\u001b[0m\u001b[0;34m\u001b[0m\u001b[0m\n\u001b[1;32m    152\u001b[0m       \u001b[0mfiltered_tb\u001b[0m \u001b[0;34m=\u001b[0m \u001b[0m_process_traceback_frames\u001b[0m\u001b[0;34m(\u001b[0m\u001b[0me\u001b[0m\u001b[0;34m.\u001b[0m\u001b[0m__traceback__\u001b[0m\u001b[0;34m)\u001b[0m\u001b[0;34m\u001b[0m\u001b[0;34m\u001b[0m\u001b[0m\n",
            "\u001b[0;32m/usr/local/lib/python3.7/dist-packages/tensorflow/python/eager/def_function.py\u001b[0m in \u001b[0;36m__call__\u001b[0;34m(self, *args, **kwds)\u001b[0m\n\u001b[1;32m    913\u001b[0m \u001b[0;34m\u001b[0m\u001b[0m\n\u001b[1;32m    914\u001b[0m       \u001b[0;32mwith\u001b[0m \u001b[0mOptionalXlaContext\u001b[0m\u001b[0;34m(\u001b[0m\u001b[0mself\u001b[0m\u001b[0;34m.\u001b[0m\u001b[0m_jit_compile\u001b[0m\u001b[0;34m)\u001b[0m\u001b[0;34m:\u001b[0m\u001b[0;34m\u001b[0m\u001b[0;34m\u001b[0m\u001b[0m\n\u001b[0;32m--> 915\u001b[0;31m         \u001b[0mresult\u001b[0m \u001b[0;34m=\u001b[0m \u001b[0mself\u001b[0m\u001b[0;34m.\u001b[0m\u001b[0m_call\u001b[0m\u001b[0;34m(\u001b[0m\u001b[0;34m*\u001b[0m\u001b[0margs\u001b[0m\u001b[0;34m,\u001b[0m \u001b[0;34m**\u001b[0m\u001b[0mkwds\u001b[0m\u001b[0;34m)\u001b[0m\u001b[0;34m\u001b[0m\u001b[0;34m\u001b[0m\u001b[0m\n\u001b[0m\u001b[1;32m    916\u001b[0m \u001b[0;34m\u001b[0m\u001b[0m\n\u001b[1;32m    917\u001b[0m       \u001b[0mnew_tracing_count\u001b[0m \u001b[0;34m=\u001b[0m \u001b[0mself\u001b[0m\u001b[0;34m.\u001b[0m\u001b[0mexperimental_get_tracing_count\u001b[0m\u001b[0;34m(\u001b[0m\u001b[0;34m)\u001b[0m\u001b[0;34m\u001b[0m\u001b[0;34m\u001b[0m\u001b[0m\n",
            "\u001b[0;32m/usr/local/lib/python3.7/dist-packages/tensorflow/python/eager/def_function.py\u001b[0m in \u001b[0;36m_call\u001b[0;34m(self, *args, **kwds)\u001b[0m\n\u001b[1;32m    952\u001b[0m       \u001b[0;31m# In this case we have not created variables on the first call. So we can\u001b[0m\u001b[0;34m\u001b[0m\u001b[0;34m\u001b[0m\u001b[0;34m\u001b[0m\u001b[0m\n\u001b[1;32m    953\u001b[0m       \u001b[0;31m# run the first trace but we should fail if variables are created.\u001b[0m\u001b[0;34m\u001b[0m\u001b[0;34m\u001b[0m\u001b[0;34m\u001b[0m\u001b[0m\n\u001b[0;32m--> 954\u001b[0;31m       \u001b[0mresults\u001b[0m \u001b[0;34m=\u001b[0m \u001b[0mself\u001b[0m\u001b[0;34m.\u001b[0m\u001b[0m_stateful_fn\u001b[0m\u001b[0;34m(\u001b[0m\u001b[0;34m*\u001b[0m\u001b[0margs\u001b[0m\u001b[0;34m,\u001b[0m \u001b[0;34m**\u001b[0m\u001b[0mkwds\u001b[0m\u001b[0;34m)\u001b[0m\u001b[0;34m\u001b[0m\u001b[0;34m\u001b[0m\u001b[0m\n\u001b[0m\u001b[1;32m    955\u001b[0m       \u001b[0;32mif\u001b[0m \u001b[0mself\u001b[0m\u001b[0;34m.\u001b[0m\u001b[0m_created_variables\u001b[0m \u001b[0;32mand\u001b[0m \u001b[0;32mnot\u001b[0m \u001b[0mALLOW_DYNAMIC_VARIABLE_CREATION\u001b[0m\u001b[0;34m:\u001b[0m\u001b[0;34m\u001b[0m\u001b[0;34m\u001b[0m\u001b[0m\n\u001b[1;32m    956\u001b[0m         raise ValueError(\"Creating variables on a non-first call to a function\"\n",
            "\u001b[0;32m/usr/local/lib/python3.7/dist-packages/tensorflow/python/eager/function.py\u001b[0m in \u001b[0;36m__call__\u001b[0;34m(self, *args, **kwargs)\u001b[0m\n\u001b[1;32m   2955\u001b[0m        filtered_flat_args) = self._maybe_define_function(args, kwargs)\n\u001b[1;32m   2956\u001b[0m     return graph_function._call_flat(\n\u001b[0;32m-> 2957\u001b[0;31m         filtered_flat_args, captured_inputs=graph_function.captured_inputs)  # pylint: disable=protected-access\n\u001b[0m\u001b[1;32m   2958\u001b[0m \u001b[0;34m\u001b[0m\u001b[0m\n\u001b[1;32m   2959\u001b[0m   \u001b[0;34m@\u001b[0m\u001b[0mproperty\u001b[0m\u001b[0;34m\u001b[0m\u001b[0;34m\u001b[0m\u001b[0m\n",
            "\u001b[0;32m/usr/local/lib/python3.7/dist-packages/tensorflow/python/eager/function.py\u001b[0m in \u001b[0;36m_call_flat\u001b[0;34m(self, args, captured_inputs, cancellation_manager)\u001b[0m\n\u001b[1;32m   1852\u001b[0m       \u001b[0;31m# No tape is watching; skip to running the function.\u001b[0m\u001b[0;34m\u001b[0m\u001b[0;34m\u001b[0m\u001b[0;34m\u001b[0m\u001b[0m\n\u001b[1;32m   1853\u001b[0m       return self._build_call_outputs(self._inference_function.call(\n\u001b[0;32m-> 1854\u001b[0;31m           ctx, args, cancellation_manager=cancellation_manager))\n\u001b[0m\u001b[1;32m   1855\u001b[0m     forward_backward = self._select_forward_and_backward_functions(\n\u001b[1;32m   1856\u001b[0m         \u001b[0margs\u001b[0m\u001b[0;34m,\u001b[0m\u001b[0;34m\u001b[0m\u001b[0;34m\u001b[0m\u001b[0m\n",
            "\u001b[0;32m/usr/local/lib/python3.7/dist-packages/tensorflow/python/eager/function.py\u001b[0m in \u001b[0;36mcall\u001b[0;34m(self, ctx, args, cancellation_manager)\u001b[0m\n\u001b[1;32m    502\u001b[0m               \u001b[0minputs\u001b[0m\u001b[0;34m=\u001b[0m\u001b[0margs\u001b[0m\u001b[0;34m,\u001b[0m\u001b[0;34m\u001b[0m\u001b[0;34m\u001b[0m\u001b[0m\n\u001b[1;32m    503\u001b[0m               \u001b[0mattrs\u001b[0m\u001b[0;34m=\u001b[0m\u001b[0mattrs\u001b[0m\u001b[0;34m,\u001b[0m\u001b[0;34m\u001b[0m\u001b[0;34m\u001b[0m\u001b[0m\n\u001b[0;32m--> 504\u001b[0;31m               ctx=ctx)\n\u001b[0m\u001b[1;32m    505\u001b[0m         \u001b[0;32melse\u001b[0m\u001b[0;34m:\u001b[0m\u001b[0;34m\u001b[0m\u001b[0;34m\u001b[0m\u001b[0m\n\u001b[1;32m    506\u001b[0m           outputs = execute.execute_with_cancellation(\n",
            "\u001b[0;32m/usr/local/lib/python3.7/dist-packages/tensorflow/python/eager/execute.py\u001b[0m in \u001b[0;36mquick_execute\u001b[0;34m(op_name, num_outputs, inputs, attrs, ctx, name)\u001b[0m\n\u001b[1;32m     53\u001b[0m     \u001b[0mctx\u001b[0m\u001b[0;34m.\u001b[0m\u001b[0mensure_initialized\u001b[0m\u001b[0;34m(\u001b[0m\u001b[0;34m)\u001b[0m\u001b[0;34m\u001b[0m\u001b[0;34m\u001b[0m\u001b[0m\n\u001b[1;32m     54\u001b[0m     tensors = pywrap_tfe.TFE_Py_Execute(ctx._handle, device_name, op_name,\n\u001b[0;32m---> 55\u001b[0;31m                                         inputs, attrs, num_outputs)\n\u001b[0m\u001b[1;32m     56\u001b[0m   \u001b[0;32mexcept\u001b[0m \u001b[0mcore\u001b[0m\u001b[0;34m.\u001b[0m\u001b[0m_NotOkStatusException\u001b[0m \u001b[0;32mas\u001b[0m \u001b[0me\u001b[0m\u001b[0;34m:\u001b[0m\u001b[0;34m\u001b[0m\u001b[0;34m\u001b[0m\u001b[0m\n\u001b[1;32m     57\u001b[0m     \u001b[0;32mif\u001b[0m \u001b[0mname\u001b[0m \u001b[0;32mis\u001b[0m \u001b[0;32mnot\u001b[0m \u001b[0;32mNone\u001b[0m\u001b[0;34m:\u001b[0m\u001b[0;34m\u001b[0m\u001b[0;34m\u001b[0m\u001b[0m\n",
            "\u001b[0;31mKeyboardInterrupt\u001b[0m: "
          ]
        }
      ]
    },
    {
      "cell_type": "markdown",
      "source": [
        "# Exemple 3: Auto-Encoder"
      ],
      "metadata": {
        "id": "Kq26AwIx6RFE"
      }
    },
    {
      "cell_type": "markdown",
      "source": [
        "## Data loading"
      ],
      "metadata": {
        "id": "IVO9CtsqyTLi"
      }
    },
    {
      "cell_type": "code",
      "source": [
        "from tensorflow.keras.datasets import mnist\n",
        "(x_train, y_train), (x_test, y_test) = mnist.load_data()"
      ],
      "metadata": {
        "id": "2c66W8EbyOVt"
      },
      "execution_count": null,
      "outputs": []
    },
    {
      "cell_type": "markdown",
      "source": [
        "## Data preparation"
      ],
      "metadata": {
        "id": "FsATBdx_zG6p"
      }
    },
    {
      "cell_type": "code",
      "source": [
        "import numpy as np\n",
        "x_train = x_train.astype('float32') / 255.\n",
        "x_test = x_test.astype('float32') / 255.\n",
        "\n",
        "x_train = np.reshape(x_train, (len(x_train), 28, 28, 1))\n",
        "x_test = np.reshape(x_test, (len(x_test), 28, 28, 1))"
      ],
      "metadata": {
        "id": "9gFJyPXh6O9p"
      },
      "execution_count": null,
      "outputs": []
    },
    {
      "cell_type": "code",
      "source": [
        "noise_factor = 0.8\n",
        "x_train_noisy = x_train + noise_factor * np.random.normal(loc=0.0, scale=1.0, size=x_train.shape)\n",
        "x_test_noisy = x_test + noise_factor * np.random.normal(loc=0.0, scale=1.0, size=x_test.shape)\n",
        "\n",
        "x_train_noisy = np.clip(x_train_noisy, 0., 1.)\n",
        "x_test_noisy = np.clip(x_test_noisy, 0., 1.)\n",
        "\n",
        "idx = 10\n",
        "plt.subplot(1,2,1); plt.imshow(x_train[idx].reshape(28,28)); plt.colorbar();\n",
        "plt.subplot(1,2,2); plt.imshow(x_train_noisy[idx].reshape(28,28)); plt.colorbar();"
      ],
      "metadata": {
        "colab": {
          "base_uri": "https://localhost:8080/",
          "height": 258
        },
        "id": "BRDA3MgqzH69",
        "outputId": "1e9c0cdb-1403-4db9-c127-ceb6efa44319"
      },
      "execution_count": null,
      "outputs": [
        {
          "output_type": "display_data",
          "data": {
            "text/plain": [
              "<Figure size 432x288 with 4 Axes>"
            ],
            "image/png": "[encoded data removed]"
          },
          "metadata": {
            "needs_background": "light"
          }
        }
      ]
    },
    {
      "cell_type": "markdown",
      "source": [
        "## Model definition\n",
        "\n"
      ],
      "metadata": {
        "id": "y_x4jI0dzMfZ"
      }
    },
    {
      "cell_type": "code",
      "source": [
        "import tensorflow.keras as keras\n",
        "from tensorflow.keras import layers\n",
        "\n",
        "input_img = keras.Input(shape=(28, 28, 1))\n",
        "\n",
        "x = layers.Conv2D(filters=16, kernel_size=(3,3), strides=(1,1), activation='ReLU', padding='same')(input_img)\n",
        "x = layers.MaxPooling2D(pool_size=(2,2), strides=(2,2), padding='same')(x)\n",
        "\n",
        "x = layers.Conv2D(filters=8, kernel_size=(3,3), strides=(1,1), activation='ReLU', padding='same')(x)\n",
        "x = layers.MaxPooling2D(pool_size=(2,2), strides=(2,2), padding='same')(x)\n",
        "\n",
        "x = layers.Conv2D(filters=8, kernel_size=(3,3), strides=(1,1), activation='ReLU', padding='same')(x)\n",
        "x = layers.MaxPooling2D(pool_size=(2,2), strides=(2,2), padding='same')(x)\n",
        "\n",
        "# --- dimension of encoded is (4, 4, 8), i.e. 128-dimensional\n",
        "encoded = x\n",
        "\n",
        "x = layers.Conv2D(filters=8, kernel_size=(3,3), strides=(1,1), activation='ReLU', padding='same')(encoded)\n",
        "x = layers.UpSampling2D((2,2))(x)\n",
        "\n",
        "x = layers.Conv2D(filters=8, kernel_size=(3,3), strides=(1,1), activation='ReLU', padding='same')(x)\n",
        "x = layers.UpSampling2D((2,2))(x)\n",
        "\n",
        "x = layers.Conv2D(filters=16, kernel_size=(3,3), strides=(1,1), activation='ReLU', padding='valid')(x)\n",
        "x = layers.UpSampling2D((2,2))(x)\n",
        "\n",
        "x = layers.Conv2D(filters=1, kernel_size=(3,3), strides=(1,1), activation='sigmoid', padding='same')(x)\n",
        "decoded = x\n",
        "\n",
        "model_autoencoder = keras.Model(input_img, decoded)\n",
        "model_autoencoder.summary()"
      ],
      "metadata": {
        "colab": {
          "base_uri": "https://localhost:8080/"
        },
        "id": "s5PdEzinzM6d",
        "outputId": "04a99d51-4a27-4929-a935-2958fa0197d3"
      },
      "execution_count": null,
      "outputs": [
        {
          "output_type": "stream",
          "name": "stdout",
          "text": [
            "Model: \"model_19\"\n",
            "_________________________________________________________________\n",
            " Layer (type)                Output Shape              Param #   \n",
            "=================================================================\n",
            " input_22 (InputLayer)       [(None, 28, 28, 1)]       0         \n",
            "                                                                 \n",
            " conv2d_85 (Conv2D)          (None, 28, 28, 16)        160       \n",
            "                                                                 \n",
            " max_pooling2d_48 (MaxPoolin  (None, 14, 14, 16)       0         \n",
            " g2D)                                                            \n",
            "                                                                 \n",
            " conv2d_86 (Conv2D)          (None, 14, 14, 8)         1160      \n",
            "                                                                 \n",
            " max_pooling2d_49 (MaxPoolin  (None, 7, 7, 8)          0         \n",
            " g2D)                                                            \n",
            "                                                                 \n",
            " conv2d_87 (Conv2D)          (None, 7, 7, 8)           584       \n",
            "                                                                 \n",
            " max_pooling2d_50 (MaxPoolin  (None, 4, 4, 8)          0         \n",
            " g2D)                                                            \n",
            "                                                                 \n",
            " conv2d_88 (Conv2D)          (None, 4, 4, 8)           584       \n",
            "                                                                 \n",
            " up_sampling2d_30 (UpSamplin  (None, 8, 8, 8)          0         \n",
            " g2D)                                                            \n",
            "                                                                 \n",
            " conv2d_89 (Conv2D)          (None, 8, 8, 8)           584       \n",
            "                                                                 \n",
            " up_sampling2d_31 (UpSamplin  (None, 16, 16, 8)        0         \n",
            " g2D)                                                            \n",
            "                                                                 \n",
            " conv2d_90 (Conv2D)          (None, 14, 14, 16)        1168      \n",
            "                                                                 \n",
            " up_sampling2d_32 (UpSamplin  (None, 28, 28, 16)       0         \n",
            " g2D)                                                            \n",
            "                                                                 \n",
            " conv2d_91 (Conv2D)          (None, 28, 28, 1)         145       \n",
            "                                                                 \n",
            "=================================================================\n",
            "Total params: 4,385\n",
            "Trainable params: 4,385\n",
            "Non-trainable params: 0\n",
            "_________________________________________________________________\n"
          ]
        }
      ]
    },
    {
      "cell_type": "markdown",
      "source": [
        "## Model compilation"
      ],
      "metadata": {
        "id": "CQl_IGzI2joj"
      }
    },
    {
      "cell_type": "code",
      "source": [
        "model_autoencoder.compile(optimizer='adam', loss='binary_crossentropy')"
      ],
      "metadata": {
        "id": "KoTaAyot2kX7"
      },
      "execution_count": null,
      "outputs": []
    },
    {
      "cell_type": "markdown",
      "source": [
        "## Model fitting (training)"
      ],
      "metadata": {
        "id": "O3cNmm7m2uVf"
      }
    },
    {
      "cell_type": "code",
      "source": [
        "model_autoencoder.fit(x_train_noisy, x_train, validation_data=(x_test_noisy, x_test), epochs=10, batch_size=128, shuffle=True)"
      ],
      "metadata": {
        "colab": {
          "base_uri": "https://localhost:8080/"
        },
        "id": "i3fs6jaU2u8j",
        "outputId": "87a42062-2349-45c3-da9b-f8d3cd8ae171"
      },
      "execution_count": null,
      "outputs": [
        {
          "output_type": "stream",
          "name": "stdout",
          "text": [
            "Epoch 1/10\n",
            "469/469 [==============================] - 4s 6ms/step - loss: 0.2767 - val_loss: 0.2142\n",
            "Epoch 2/10\n",
            "469/469 [==============================] - 3s 6ms/step - loss: 0.2051 - val_loss: 0.1950\n",
            "Epoch 3/10\n",
            "469/469 [==============================] - 3s 6ms/step - loss: 0.1917 - val_loss: 0.1863\n",
            "Epoch 4/10\n",
            "469/469 [==============================] - 3s 6ms/step - loss: 0.1848 - val_loss: 0.1805\n",
            "Epoch 5/10\n",
            "469/469 [==============================] - 3s 6ms/step - loss: 0.1803 - val_loss: 0.1772\n",
            "Epoch 6/10\n",
            "469/469 [==============================] - 3s 6ms/step - loss: 0.1770 - val_loss: 0.1746\n",
            "Epoch 7/10\n",
            "469/469 [==============================] - 3s 6ms/step - loss: 0.1747 - val_loss: 0.1721\n",
            "Epoch 8/10\n",
            "469/469 [==============================] - 3s 6ms/step - loss: 0.1727 - val_loss: 0.1706\n",
            "Epoch 9/10\n",
            "469/469 [==============================] - 3s 6ms/step - loss: 0.1711 - val_loss: 0.1696\n",
            "Epoch 10/10\n",
            "469/469 [==============================] - 3s 6ms/step - loss: 0.1697 - val_loss: 0.1682\n"
          ]
        },
        {
          "output_type": "execute_result",
          "data": {
            "text/plain": [
              "<keras.callbacks.History at 0x7fbb424cfed0>"
            ]
          },
          "metadata": {},
          "execution_count": 73
        }
      ]
    },
    {
      "cell_type": "markdown",
      "source": [
        "## Model testing"
      ],
      "metadata": {
        "id": "WGBA44EY3MnW"
      }
    },
    {
      "cell_type": "code",
      "source": [
        "import matplotlib.pyplot as plt\n",
        "\n",
        "decoded_imgs = model_autoencoder.predict(x_test_noisy)\n",
        "\n",
        "n = 10\n",
        "plt.figure(figsize=(20,4))\n",
        "for i in range(1, n+1):\n",
        "    ax = plt.subplot(2, n, i)\n",
        "    plt.imshow(x_test_noisy[i].reshape(28,28))\n",
        "    plt.gray()\n",
        "    ax.get_xaxis().set_visible(False)\n",
        "    ax.get_yaxis().set_visible(False)\n",
        "\n",
        "    ax = plt.subplot(2, n, i+n)\n",
        "    plt.imshow(decoded_imgs[i].reshape(28,28))\n",
        "    plt.gray()\n",
        "    ax.get_xaxis().set_visible(False)\n",
        "    ax.get_yaxis().set_visible(False)"
      ],
      "metadata": {
        "colab": {
          "base_uri": "https://localhost:8080/",
          "height": 248
        },
        "id": "1u9odz6d3NjD",
        "outputId": "1db5d7c1-6d3a-457a-82bd-119b35d3423f"
      },
      "execution_count": null,
      "outputs": [
        {
          "output_type": "display_data",
          "data": {
            "text/plain": [
              "<Figure size 1440x288 with 20 Axes>"
            ],
            "image/png": "[encoded data removed]"
          },
          "metadata": {
            "needs_background": "light"
          }
        }
      ]
    },
    {
      "cell_type": "markdown",
      "source": [
        "# Exemple 4: Recurrent Neural Networks"
      ],
      "metadata": {
        "id": "wRNDK6506VUn"
      }
    },
    {
      "cell_type": "code",
      "source": [
        "from tensorflow.keras.datasets import imdb\n",
        "top_words = 10000\n",
        "INDEX_FROM = 3\n",
        "np.load.__defaults__=(None, True, True, 'ASCII')\n",
        "(X_train, y_train), (X_test, y_test) = imdb.load_data(num_words=top_words, index_from=INDEX_FROM)\n",
        "np.load.__defaults__=(None, False, True, 'ASCII')\n"
      ],
      "metadata": {
        "colab": {
          "base_uri": "https://localhost:8080/"
        },
        "id": "kZ3j9XtMkhb2",
        "outputId": "05165e9e-dc5e-4721-8ca4-825d8462cb86"
      },
      "execution_count": null,
      "outputs": [
        {
          "output_type": "stream",
          "name": "stdout",
          "text": [
            "Downloading data from https://storage.googleapis.com/tensorflow/tf-keras-datasets/imdb.npz\n",
            "17465344/17464789 [==============================] - 0s 0us/step\n",
            "17473536/17464789 [==============================] - 0s 0us/step\n"
          ]
        }
      ]
    },
    {
      "cell_type": "code",
      "source": [
        "print( X_train.shape )\n",
        "print( X_train[0] )"
      ],
      "metadata": {
        "colab": {
          "base_uri": "https://localhost:8080/"
        },
        "id": "6NBol-KflLFZ",
        "outputId": "b5abb59f-6819-40d8-9679-eef07361dfbe"
      },
      "execution_count": null,
      "outputs": [
        {
          "output_type": "stream",
          "name": "stdout",
          "text": [
            "(25000,)\n",
            "[1, 14, 22, 16, 43, 530, 973, 1622, 1385, 65, 458, 4468, 66, 3941, 4, 173, 36, 256, 5, 25, 100, 43, 838, 112, 50, 670, 2, 9, 35, 480, 284, 5, 150, 4, 172, 112, 167, 2, 336, 385, 39, 4, 172, 4536, 1111, 17, 546, 38, 13, 447, 4, 192, 50, 16, 6, 147, 2025, 19, 14, 22, 4, 1920, 4613, 469, 4, 22, 71, 87, 12, 16, 43, 530, 38, 76, 15, 13, 1247, 4, 22, 17, 515, 17, 12, 16, 626, 18, 2, 5, 62, 386, 12, 8, 316, 8, 106, 5, 4, 2223, 5244, 16, 480, 66, 3785, 33, 4, 130, 12, 16, 38, 619, 5, 25, 124, 51, 36, 135, 48, 25, 1415, 33, 6, 22, 12, 215, 28, 77, 52, 5, 14, 407, 16, 82, 2, 8, 4, 107, 117, 5952, 15, 256, 4, 2, 7, 3766, 5, 723, 36, 71, 43, 530, 476, 26, 400, 317, 46, 7, 4, 2, 1029, 13, 104, 88, 4, 381, 15, 297, 98, 32, 2071, 56, 26, 141, 6, 194, 7486, 18, 4, 226, 22, 21, 134, 476, 26, 480, 5, 144, 30, 5535, 18, 51, 36, 28, 224, 92, 25, 104, 4, 226, 65, 16, 38, 1334, 88, 12, 16, 283, 5, 16, 4472, 113, 103, 32, 15, 16, 5345, 19, 178, 32]\n"
          ]
        }
      ]
    },
    {
      "cell_type": "code",
      "source": [
        "import numpy as np\n",
        "from tensorflow.keras.layers import SimpleRNN\n",
        "inputs = np.random.random([32, 10, 8]).astype(np.float32)"
      ],
      "metadata": {
        "id": "PXhiSBfVln1-"
      },
      "execution_count": null,
      "outputs": []
    },
    {
      "cell_type": "code",
      "source": [
        "simple_rnn = SimpleRNN(4)\n",
        "output = simple_rnn(inputs)\n",
        "print( inputs.shape )\n",
        "print( output.shape )"
      ],
      "metadata": {
        "colab": {
          "base_uri": "https://localhost:8080/"
        },
        "id": "mpfhnkJXl1dV",
        "outputId": "56792005-7eba-4382-d093-32ff775626d2"
      },
      "execution_count": null,
      "outputs": [
        {
          "output_type": "stream",
          "name": "stdout",
          "text": [
            "(32, 10, 8)\n",
            "(32, 4)\n"
          ]
        }
      ]
    },
    {
      "cell_type": "code",
      "source": [
        "simple_rnn = SimpleRNN(4, return_sequences=True)\n",
        "output = simple_rnn(inputs)\n",
        "print( inputs.shape )\n",
        "print( output.shape )"
      ],
      "metadata": {
        "colab": {
          "base_uri": "https://localhost:8080/"
        },
        "id": "oFmL40ZvmR7r",
        "outputId": "b301b685-ad8f-4fea-e9c9-d7a621510dea"
      },
      "execution_count": null,
      "outputs": [
        {
          "output_type": "stream",
          "name": "stdout",
          "text": [
            "(32, 10, 8)\n",
            "(32, 10, 4)\n"
          ]
        }
      ]
    },
    {
      "cell_type": "code",
      "source": [
        "simple_rnn = SimpleRNN(4, return_sequences=True, return_state=True)\n",
        "output = simple_rnn(inputs)\n",
        "print( inputs.shape )\n",
        "print( output[0].shape )\n",
        "print( output[1].shape )"
      ],
      "metadata": {
        "colab": {
          "base_uri": "https://localhost:8080/"
        },
        "id": "PvsefXZsmVVS",
        "outputId": "4d256e31-5675-472e-d086-871faa3d2f8e"
      },
      "execution_count": null,
      "outputs": [
        {
          "output_type": "stream",
          "name": "stdout",
          "text": [
            "(32, 10, 8)\n",
            "(32, 10, 4)\n",
            "(32, 4)\n"
          ]
        }
      ]
    },
    {
      "cell_type": "markdown",
      "source": [
        "# Advanced: Fit generator\n",
        "\n",
        "https://stanford.edu/~shervine/blog/keras-how-to-generate-data-on-the-fly"
      ],
      "metadata": {
        "id": "Tzack1AD6Obm"
      }
    },
    {
      "cell_type": "code",
      "source": [],
      "metadata": {
        "id": "We6dhxB84VLi"
      },
      "execution_count": null,
      "outputs": []
    }
  ]
}